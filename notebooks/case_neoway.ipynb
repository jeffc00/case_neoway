{
 "cells": [
  {
   "cell_type": "code",
   "execution_count": 1,
   "id": "ed4386d5-138c-467b-8a55-163ec1c21c69",
   "metadata": {},
   "outputs": [],
   "source": [
    "import joblib\n",
    "import lightgbm as lgb\n",
    "import numpy as np\n",
    "import matplotlib.pyplot as plt\n",
    "import pandas as pd\n",
    "import seaborn as sns\n",
    "\n",
    "from sklearn.cluster import KMeans\n",
    "from sklearn.decomposition import PCA\n",
    "from sklearn.impute import KNNImputer, SimpleImputer\n",
    "from sklearn.linear_model import LassoCV, LinearRegression, RidgeCV\n",
    "from sklearn.model_selection import train_test_split\n",
    "from sklearn.neighbors import KNeighborsRegressor\n",
    "from sklearn.preprocessing import MinMaxScaler, OneHotEncoder, OrdinalEncoder\n",
    "\n",
    "import warnings\n",
    "warnings.filterwarnings('ignore')"
   ]
  },
  {
   "cell_type": "markdown",
   "id": "bd4df401-1ab0-43bd-8b51-3875557f454d",
   "metadata": {
    "tags": []
   },
   "source": [
    "# Carregando os datasets"
   ]
  },
  {
   "cell_type": "markdown",
   "id": "c3be452d-e1a7-4a40-95b5-aa2d3754b502",
   "metadata": {},
   "source": [
    "## conn_df"
   ]
  },
  {
   "cell_type": "code",
   "execution_count": 3,
   "id": "eddc0897-f57a-44a1-bec6-7d18cab0f94a",
   "metadata": {},
   "outputs": [],
   "source": [
    "conn_df = pd.read_csv('../data/raw/conexoes_espec.csv', sep=';')"
   ]
  },
  {
   "cell_type": "code",
   "execution_count": 12,
   "id": "74f05bce-a6ca-4d27-95f9-84f90a69d756",
   "metadata": {},
   "outputs": [
    {
     "data": {
      "text/html": [
       "<div>\n",
       "<style scoped>\n",
       "    .dataframe tbody tr th:only-of-type {\n",
       "        vertical-align: middle;\n",
       "    }\n",
       "\n",
       "    .dataframe tbody tr th {\n",
       "        vertical-align: top;\n",
       "    }\n",
       "\n",
       "    .dataframe thead th {\n",
       "        text-align: right;\n",
       "    }\n",
       "</style>\n",
       "<table border=\"1\" class=\"dataframe\">\n",
       "  <thead>\n",
       "    <tr style=\"text-align: right;\">\n",
       "      <th></th>\n",
       "      <th>V1</th>\n",
       "      <th>V2</th>\n",
       "      <th>grau</th>\n",
       "      <th>proximidade</th>\n",
       "      <th>prob_V1_V2</th>\n",
       "    </tr>\n",
       "  </thead>\n",
       "  <tbody>\n",
       "    <tr>\n",
       "      <th>0</th>\n",
       "      <td>1</td>\n",
       "      <td>2</td>\n",
       "      <td>trabalho</td>\n",
       "      <td>visita_frequente</td>\n",
       "      <td>0.589462</td>\n",
       "    </tr>\n",
       "    <tr>\n",
       "      <th>1</th>\n",
       "      <td>1</td>\n",
       "      <td>3</td>\n",
       "      <td>trabalho</td>\n",
       "      <td>visita_rara</td>\n",
       "      <td>0.708465</td>\n",
       "    </tr>\n",
       "    <tr>\n",
       "      <th>2</th>\n",
       "      <td>2</td>\n",
       "      <td>4</td>\n",
       "      <td>trabalho</td>\n",
       "      <td>visita_casual</td>\n",
       "      <td>NaN</td>\n",
       "    </tr>\n",
       "    <tr>\n",
       "      <th>3</th>\n",
       "      <td>2</td>\n",
       "      <td>5</td>\n",
       "      <td>trabalho</td>\n",
       "      <td>visita_rara</td>\n",
       "      <td>0.638842</td>\n",
       "    </tr>\n",
       "    <tr>\n",
       "      <th>4</th>\n",
       "      <td>3</td>\n",
       "      <td>6</td>\n",
       "      <td>amigos</td>\n",
       "      <td>mora_junto</td>\n",
       "      <td>NaN</td>\n",
       "    </tr>\n",
       "    <tr>\n",
       "      <th>...</th>\n",
       "      <td>...</td>\n",
       "      <td>...</td>\n",
       "      <td>...</td>\n",
       "      <td>...</td>\n",
       "      <td>...</td>\n",
       "    </tr>\n",
       "    <tr>\n",
       "      <th>999994</th>\n",
       "      <td>499998</td>\n",
       "      <td>999996</td>\n",
       "      <td>trabalho</td>\n",
       "      <td>visita_rara</td>\n",
       "      <td>NaN</td>\n",
       "    </tr>\n",
       "    <tr>\n",
       "      <th>999995</th>\n",
       "      <td>499998</td>\n",
       "      <td>999997</td>\n",
       "      <td>trabalho</td>\n",
       "      <td>visita_rara</td>\n",
       "      <td>NaN</td>\n",
       "    </tr>\n",
       "    <tr>\n",
       "      <th>999996</th>\n",
       "      <td>499999</td>\n",
       "      <td>999998</td>\n",
       "      <td>familia</td>\n",
       "      <td>visita_casual</td>\n",
       "      <td>0.451662</td>\n",
       "    </tr>\n",
       "    <tr>\n",
       "      <th>999997</th>\n",
       "      <td>499999</td>\n",
       "      <td>999999</td>\n",
       "      <td>familia</td>\n",
       "      <td>visita_rara</td>\n",
       "      <td>0.186973</td>\n",
       "    </tr>\n",
       "    <tr>\n",
       "      <th>999998</th>\n",
       "      <td>500000</td>\n",
       "      <td>1000000</td>\n",
       "      <td>familia</td>\n",
       "      <td>visita_rara</td>\n",
       "      <td>NaN</td>\n",
       "    </tr>\n",
       "  </tbody>\n",
       "</table>\n",
       "<p>999999 rows × 5 columns</p>\n",
       "</div>"
      ],
      "text/plain": [
       "            V1       V2      grau       proximidade  prob_V1_V2\n",
       "0            1        2  trabalho  visita_frequente    0.589462\n",
       "1            1        3  trabalho       visita_rara    0.708465\n",
       "2            2        4  trabalho     visita_casual         NaN\n",
       "3            2        5  trabalho       visita_rara    0.638842\n",
       "4            3        6    amigos        mora_junto         NaN\n",
       "...        ...      ...       ...               ...         ...\n",
       "999994  499998   999996  trabalho       visita_rara         NaN\n",
       "999995  499998   999997  trabalho       visita_rara         NaN\n",
       "999996  499999   999998   familia     visita_casual    0.451662\n",
       "999997  499999   999999   familia       visita_rara    0.186973\n",
       "999998  500000  1000000   familia       visita_rara         NaN\n",
       "\n",
       "[999999 rows x 5 columns]"
      ]
     },
     "execution_count": 12,
     "metadata": {},
     "output_type": "execute_result"
    }
   ],
   "source": [
    "conn_df"
   ]
  },
  {
   "cell_type": "code",
   "execution_count": 5,
   "id": "9c78180c-bfe9-4e9b-81eb-e892f8cacdcf",
   "metadata": {},
   "outputs": [
    {
     "name": "stdout",
     "output_type": "stream",
     "text": [
      "<class 'pandas.core.frame.DataFrame'>\n",
      "RangeIndex: 999999 entries, 0 to 999998\n",
      "Data columns (total 5 columns):\n",
      " #   Column       Non-Null Count   Dtype  \n",
      "---  ------       --------------   -----  \n",
      " 0   V1           999999 non-null  int64  \n",
      " 1   V2           999999 non-null  int64  \n",
      " 2   grau         999999 non-null  object \n",
      " 3   proximidade  999999 non-null  object \n",
      " 4   prob_V1_V2   499999 non-null  float64\n",
      "dtypes: float64(1), int64(2), object(2)\n",
      "memory usage: 38.1+ MB\n"
     ]
    }
   ],
   "source": [
    "conn_df.info()"
   ]
  },
  {
   "cell_type": "code",
   "execution_count": 6,
   "id": "32a4918e-bd11-45bc-a5cf-2ff3bd463aad",
   "metadata": {},
   "outputs": [
    {
     "data": {
      "text/html": [
       "<div>\n",
       "<style scoped>\n",
       "    .dataframe tbody tr th:only-of-type {\n",
       "        vertical-align: middle;\n",
       "    }\n",
       "\n",
       "    .dataframe tbody tr th {\n",
       "        vertical-align: top;\n",
       "    }\n",
       "\n",
       "    .dataframe thead th {\n",
       "        text-align: right;\n",
       "    }\n",
       "</style>\n",
       "<table border=\"1\" class=\"dataframe\">\n",
       "  <thead>\n",
       "    <tr style=\"text-align: right;\">\n",
       "      <th></th>\n",
       "      <th>count</th>\n",
       "      <th>unique</th>\n",
       "      <th>top</th>\n",
       "      <th>freq</th>\n",
       "      <th>mean</th>\n",
       "      <th>std</th>\n",
       "      <th>min</th>\n",
       "      <th>25%</th>\n",
       "      <th>50%</th>\n",
       "      <th>75%</th>\n",
       "      <th>max</th>\n",
       "    </tr>\n",
       "  </thead>\n",
       "  <tbody>\n",
       "    <tr>\n",
       "      <th>V1</th>\n",
       "      <td>999999.0</td>\n",
       "      <td>NaN</td>\n",
       "      <td>NaN</td>\n",
       "      <td>NaN</td>\n",
       "      <td>250000.25</td>\n",
       "      <td>144337.495129</td>\n",
       "      <td>1.0</td>\n",
       "      <td>125000.5</td>\n",
       "      <td>250000.0</td>\n",
       "      <td>375000.0</td>\n",
       "      <td>500000.0</td>\n",
       "    </tr>\n",
       "    <tr>\n",
       "      <th>V2</th>\n",
       "      <td>999999.0</td>\n",
       "      <td>NaN</td>\n",
       "      <td>NaN</td>\n",
       "      <td>NaN</td>\n",
       "      <td>500001.0</td>\n",
       "      <td>288674.990255</td>\n",
       "      <td>2.0</td>\n",
       "      <td>250001.5</td>\n",
       "      <td>500001.0</td>\n",
       "      <td>750000.5</td>\n",
       "      <td>1000000.0</td>\n",
       "    </tr>\n",
       "    <tr>\n",
       "      <th>grau</th>\n",
       "      <td>999999</td>\n",
       "      <td>3</td>\n",
       "      <td>trabalho</td>\n",
       "      <td>333548</td>\n",
       "      <td>NaN</td>\n",
       "      <td>NaN</td>\n",
       "      <td>NaN</td>\n",
       "      <td>NaN</td>\n",
       "      <td>NaN</td>\n",
       "      <td>NaN</td>\n",
       "      <td>NaN</td>\n",
       "    </tr>\n",
       "    <tr>\n",
       "      <th>proximidade</th>\n",
       "      <td>999999</td>\n",
       "      <td>4</td>\n",
       "      <td>visita_rara</td>\n",
       "      <td>400238</td>\n",
       "      <td>NaN</td>\n",
       "      <td>NaN</td>\n",
       "      <td>NaN</td>\n",
       "      <td>NaN</td>\n",
       "      <td>NaN</td>\n",
       "      <td>NaN</td>\n",
       "      <td>NaN</td>\n",
       "    </tr>\n",
       "    <tr>\n",
       "      <th>prob_V1_V2</th>\n",
       "      <td>499999.0</td>\n",
       "      <td>NaN</td>\n",
       "      <td>NaN</td>\n",
       "      <td>NaN</td>\n",
       "      <td>0.485162</td>\n",
       "      <td>0.173963</td>\n",
       "      <td>0.074462</td>\n",
       "      <td>0.351677</td>\n",
       "      <td>0.486413</td>\n",
       "      <td>0.61821</td>\n",
       "      <td>0.942245</td>\n",
       "    </tr>\n",
       "  </tbody>\n",
       "</table>\n",
       "</div>"
      ],
      "text/plain": [
       "                count unique          top    freq       mean            std  \\\n",
       "V1           999999.0    NaN          NaN     NaN  250000.25  144337.495129   \n",
       "V2           999999.0    NaN          NaN     NaN   500001.0  288674.990255   \n",
       "grau           999999      3     trabalho  333548        NaN            NaN   \n",
       "proximidade    999999      4  visita_rara  400238        NaN            NaN   \n",
       "prob_V1_V2   499999.0    NaN          NaN     NaN   0.485162       0.173963   \n",
       "\n",
       "                  min       25%       50%       75%        max  \n",
       "V1                1.0  125000.5  250000.0  375000.0   500000.0  \n",
       "V2                2.0  250001.5  500001.0  750000.5  1000000.0  \n",
       "grau              NaN       NaN       NaN       NaN        NaN  \n",
       "proximidade       NaN       NaN       NaN       NaN        NaN  \n",
       "prob_V1_V2   0.074462  0.351677  0.486413   0.61821   0.942245  "
      ]
     },
     "execution_count": 6,
     "metadata": {},
     "output_type": "execute_result"
    }
   ],
   "source": [
    "conn_df.describe(include='all').T"
   ]
  },
  {
   "cell_type": "code",
   "execution_count": 7,
   "id": "6cf2f21f-eef7-4428-b8c5-9c20546585b2",
   "metadata": {},
   "outputs": [
    {
     "data": {
      "text/plain": [
       "array(['trabalho', 'amigos', 'familia'], dtype=object)"
      ]
     },
     "execution_count": 7,
     "metadata": {},
     "output_type": "execute_result"
    }
   ],
   "source": [
    "conn_df['grau'].unique()"
   ]
  },
  {
   "cell_type": "code",
   "execution_count": 8,
   "id": "ffd47555-2f28-4cd6-ae5f-f5ea7e86b243",
   "metadata": {},
   "outputs": [
    {
     "data": {
      "text/plain": [
       "array(['visita_frequente', 'visita_rara', 'visita_casual', 'mora_junto'],\n",
       "      dtype=object)"
      ]
     },
     "execution_count": 8,
     "metadata": {},
     "output_type": "execute_result"
    }
   ],
   "source": [
    "conn_df['proximidade'].unique()"
   ]
  },
  {
   "cell_type": "code",
   "execution_count": 9,
   "id": "ba2155a0-91a9-4b9a-b1b5-9d411f3252e2",
   "metadata": {},
   "outputs": [],
   "source": [
    "# rev_conn_df = conn_df[['V2', 'V1', 'grau', 'proximidade']].copy(deep=True).rename(columns={'V1': 'V2', 'V2': 'V1'})\n",
    "# rev_conn_df['prob_V1_V2'] = np.nan\n",
    "\n",
    "# conn_df['is_collected'] = True\n",
    "# rev_conn_df['is_collected'] = False\n",
    "\n",
    "# conn_df = conn_df.append(rev_conn_df, ignore_index=True) "
   ]
  },
  {
   "cell_type": "markdown",
   "id": "9841e393-7d80-464f-b5fe-8ae26f9bafdc",
   "metadata": {},
   "source": [
    "## ind_df"
   ]
  },
  {
   "cell_type": "code",
   "execution_count": 19,
   "id": "ccc111f5-8e8f-4bea-bbfd-9ea0b5be7d2e",
   "metadata": {},
   "outputs": [],
   "source": [
    "ind_df = pd.read_csv('../data/raw/individuos_espec.csv', sep=';')"
   ]
  },
  {
   "cell_type": "code",
   "execution_count": 20,
   "id": "9dd28066-fa6e-423a-839e-389778e90fba",
   "metadata": {},
   "outputs": [
    {
     "data": {
      "text/html": [
       "<div>\n",
       "<style scoped>\n",
       "    .dataframe tbody tr th:only-of-type {\n",
       "        vertical-align: middle;\n",
       "    }\n",
       "\n",
       "    .dataframe tbody tr th {\n",
       "        vertical-align: top;\n",
       "    }\n",
       "\n",
       "    .dataframe thead th {\n",
       "        text-align: right;\n",
       "    }\n",
       "</style>\n",
       "<table border=\"1\" class=\"dataframe\">\n",
       "  <thead>\n",
       "    <tr style=\"text-align: right;\">\n",
       "      <th></th>\n",
       "      <th>name</th>\n",
       "      <th>idade</th>\n",
       "      <th>estado_civil</th>\n",
       "      <th>qt_filhos</th>\n",
       "      <th>estuda</th>\n",
       "      <th>trabalha</th>\n",
       "      <th>pratica_esportes</th>\n",
       "      <th>transporte_mais_utilizado</th>\n",
       "      <th>IMC</th>\n",
       "    </tr>\n",
       "  </thead>\n",
       "  <tbody>\n",
       "    <tr>\n",
       "      <th>0</th>\n",
       "      <td>1</td>\n",
       "      <td>44.0</td>\n",
       "      <td>divorciado</td>\n",
       "      <td>1.0</td>\n",
       "      <td>1.0</td>\n",
       "      <td>0.0</td>\n",
       "      <td>1.0</td>\n",
       "      <td>publico</td>\n",
       "      <td>22.200956</td>\n",
       "    </tr>\n",
       "    <tr>\n",
       "      <th>1</th>\n",
       "      <td>2</td>\n",
       "      <td>24.0</td>\n",
       "      <td>casado</td>\n",
       "      <td>0.0</td>\n",
       "      <td>0.0</td>\n",
       "      <td>0.0</td>\n",
       "      <td>1.0</td>\n",
       "      <td>publico</td>\n",
       "      <td>25.378720</td>\n",
       "    </tr>\n",
       "    <tr>\n",
       "      <th>2</th>\n",
       "      <td>3</td>\n",
       "      <td>35.0</td>\n",
       "      <td>solteiro</td>\n",
       "      <td>1.0</td>\n",
       "      <td>0.0</td>\n",
       "      <td>0.0</td>\n",
       "      <td>1.0</td>\n",
       "      <td>particular</td>\n",
       "      <td>19.952393</td>\n",
       "    </tr>\n",
       "    <tr>\n",
       "      <th>3</th>\n",
       "      <td>4</td>\n",
       "      <td>50.0</td>\n",
       "      <td>casado</td>\n",
       "      <td>1.0</td>\n",
       "      <td>1.0</td>\n",
       "      <td>1.0</td>\n",
       "      <td>0.0</td>\n",
       "      <td>publico</td>\n",
       "      <td>26.732053</td>\n",
       "    </tr>\n",
       "    <tr>\n",
       "      <th>4</th>\n",
       "      <td>5</td>\n",
       "      <td>30.0</td>\n",
       "      <td>solteiro</td>\n",
       "      <td>2.0</td>\n",
       "      <td>1.0</td>\n",
       "      <td>0.0</td>\n",
       "      <td>1.0</td>\n",
       "      <td>publico</td>\n",
       "      <td>15.295668</td>\n",
       "    </tr>\n",
       "    <tr>\n",
       "      <th>...</th>\n",
       "      <td>...</td>\n",
       "      <td>...</td>\n",
       "      <td>...</td>\n",
       "      <td>...</td>\n",
       "      <td>...</td>\n",
       "      <td>...</td>\n",
       "      <td>...</td>\n",
       "      <td>...</td>\n",
       "      <td>...</td>\n",
       "    </tr>\n",
       "    <tr>\n",
       "      <th>999995</th>\n",
       "      <td>999996</td>\n",
       "      <td>34.0</td>\n",
       "      <td>casado</td>\n",
       "      <td>1.0</td>\n",
       "      <td>0.0</td>\n",
       "      <td>1.0</td>\n",
       "      <td>1.0</td>\n",
       "      <td>publico</td>\n",
       "      <td>17.556771</td>\n",
       "    </tr>\n",
       "    <tr>\n",
       "      <th>999996</th>\n",
       "      <td>999997</td>\n",
       "      <td>40.0</td>\n",
       "      <td>casado</td>\n",
       "      <td>1.0</td>\n",
       "      <td>0.0</td>\n",
       "      <td>1.0</td>\n",
       "      <td>1.0</td>\n",
       "      <td>particular</td>\n",
       "      <td>24.848402</td>\n",
       "    </tr>\n",
       "    <tr>\n",
       "      <th>999997</th>\n",
       "      <td>999998</td>\n",
       "      <td>30.0</td>\n",
       "      <td>divorciado</td>\n",
       "      <td>1.0</td>\n",
       "      <td>0.0</td>\n",
       "      <td>0.0</td>\n",
       "      <td>1.0</td>\n",
       "      <td>publico</td>\n",
       "      <td>NaN</td>\n",
       "    </tr>\n",
       "    <tr>\n",
       "      <th>999998</th>\n",
       "      <td>999999</td>\n",
       "      <td>33.0</td>\n",
       "      <td>casado</td>\n",
       "      <td>0.0</td>\n",
       "      <td>1.0</td>\n",
       "      <td>1.0</td>\n",
       "      <td>1.0</td>\n",
       "      <td>publico</td>\n",
       "      <td>16.979569</td>\n",
       "    </tr>\n",
       "    <tr>\n",
       "      <th>999999</th>\n",
       "      <td>1000000</td>\n",
       "      <td>22.0</td>\n",
       "      <td>solteiro</td>\n",
       "      <td>0.0</td>\n",
       "      <td>0.0</td>\n",
       "      <td>0.0</td>\n",
       "      <td>0.0</td>\n",
       "      <td>NaN</td>\n",
       "      <td>24.018825</td>\n",
       "    </tr>\n",
       "  </tbody>\n",
       "</table>\n",
       "<p>1000000 rows × 9 columns</p>\n",
       "</div>"
      ],
      "text/plain": [
       "           name  idade estado_civil  qt_filhos  estuda  trabalha  \\\n",
       "0             1   44.0   divorciado        1.0     1.0       0.0   \n",
       "1             2   24.0       casado        0.0     0.0       0.0   \n",
       "2             3   35.0     solteiro        1.0     0.0       0.0   \n",
       "3             4   50.0       casado        1.0     1.0       1.0   \n",
       "4             5   30.0     solteiro        2.0     1.0       0.0   \n",
       "...         ...    ...          ...        ...     ...       ...   \n",
       "999995   999996   34.0       casado        1.0     0.0       1.0   \n",
       "999996   999997   40.0       casado        1.0     0.0       1.0   \n",
       "999997   999998   30.0   divorciado        1.0     0.0       0.0   \n",
       "999998   999999   33.0       casado        0.0     1.0       1.0   \n",
       "999999  1000000   22.0     solteiro        0.0     0.0       0.0   \n",
       "\n",
       "        pratica_esportes transporte_mais_utilizado        IMC  \n",
       "0                    1.0                   publico  22.200956  \n",
       "1                    1.0                   publico  25.378720  \n",
       "2                    1.0                particular  19.952393  \n",
       "3                    0.0                   publico  26.732053  \n",
       "4                    1.0                   publico  15.295668  \n",
       "...                  ...                       ...        ...  \n",
       "999995               1.0                   publico  17.556771  \n",
       "999996               1.0                particular  24.848402  \n",
       "999997               1.0                   publico        NaN  \n",
       "999998               1.0                   publico  16.979569  \n",
       "999999               0.0                       NaN  24.018825  \n",
       "\n",
       "[1000000 rows x 9 columns]"
      ]
     },
     "execution_count": 20,
     "metadata": {},
     "output_type": "execute_result"
    }
   ],
   "source": [
    "ind_df"
   ]
  },
  {
   "cell_type": "code",
   "execution_count": 21,
   "id": "1addb6f8-7033-4fb6-9819-6ed14dcf29ba",
   "metadata": {},
   "outputs": [
    {
     "name": "stdout",
     "output_type": "stream",
     "text": [
      "<class 'pandas.core.frame.DataFrame'>\n",
      "RangeIndex: 1000000 entries, 0 to 999999\n",
      "Data columns (total 9 columns):\n",
      " #   Column                     Non-Null Count    Dtype  \n",
      "---  ------                     --------------    -----  \n",
      " 0   name                       1000000 non-null  int64  \n",
      " 1   idade                      904063 non-null   float64\n",
      " 2   estado_civil               949927 non-null   object \n",
      " 3   qt_filhos                  971133 non-null   float64\n",
      " 4   estuda                     959870 non-null   float64\n",
      " 5   trabalha                   993647 non-null   float64\n",
      " 6   pratica_esportes           850876 non-null   float64\n",
      " 7   transporte_mais_utilizado  956967 non-null   object \n",
      " 8   IMC                        886130 non-null   float64\n",
      "dtypes: float64(6), int64(1), object(2)\n",
      "memory usage: 68.7+ MB\n"
     ]
    }
   ],
   "source": [
    "ind_df.info()"
   ]
  },
  {
   "cell_type": "code",
   "execution_count": 22,
   "id": "d968b55c-086a-4974-8bcd-fad07f9c3905",
   "metadata": {},
   "outputs": [
    {
     "data": {
      "text/html": [
       "<div>\n",
       "<style scoped>\n",
       "    .dataframe tbody tr th:only-of-type {\n",
       "        vertical-align: middle;\n",
       "    }\n",
       "\n",
       "    .dataframe tbody tr th {\n",
       "        vertical-align: top;\n",
       "    }\n",
       "\n",
       "    .dataframe thead th {\n",
       "        text-align: right;\n",
       "    }\n",
       "</style>\n",
       "<table border=\"1\" class=\"dataframe\">\n",
       "  <thead>\n",
       "    <tr style=\"text-align: right;\">\n",
       "      <th></th>\n",
       "      <th>count</th>\n",
       "      <th>unique</th>\n",
       "      <th>top</th>\n",
       "      <th>freq</th>\n",
       "      <th>mean</th>\n",
       "      <th>std</th>\n",
       "      <th>min</th>\n",
       "      <th>25%</th>\n",
       "      <th>50%</th>\n",
       "      <th>75%</th>\n",
       "      <th>max</th>\n",
       "    </tr>\n",
       "  </thead>\n",
       "  <tbody>\n",
       "    <tr>\n",
       "      <th>name</th>\n",
       "      <td>1000000.0</td>\n",
       "      <td>NaN</td>\n",
       "      <td>NaN</td>\n",
       "      <td>NaN</td>\n",
       "      <td>500000.5</td>\n",
       "      <td>288675.278933</td>\n",
       "      <td>1.0</td>\n",
       "      <td>250000.75</td>\n",
       "      <td>500000.5</td>\n",
       "      <td>750000.25</td>\n",
       "      <td>1000000.0</td>\n",
       "    </tr>\n",
       "    <tr>\n",
       "      <th>idade</th>\n",
       "      <td>904063.0</td>\n",
       "      <td>NaN</td>\n",
       "      <td>NaN</td>\n",
       "      <td>NaN</td>\n",
       "      <td>30.008431</td>\n",
       "      <td>10.951566</td>\n",
       "      <td>0.0</td>\n",
       "      <td>22.0</td>\n",
       "      <td>29.0</td>\n",
       "      <td>37.0</td>\n",
       "      <td>124.0</td>\n",
       "    </tr>\n",
       "    <tr>\n",
       "      <th>estado_civil</th>\n",
       "      <td>949927</td>\n",
       "      <td>4</td>\n",
       "      <td>solteiro</td>\n",
       "      <td>420637</td>\n",
       "      <td>NaN</td>\n",
       "      <td>NaN</td>\n",
       "      <td>NaN</td>\n",
       "      <td>NaN</td>\n",
       "      <td>NaN</td>\n",
       "      <td>NaN</td>\n",
       "      <td>NaN</td>\n",
       "    </tr>\n",
       "    <tr>\n",
       "      <th>qt_filhos</th>\n",
       "      <td>971133.0</td>\n",
       "      <td>NaN</td>\n",
       "      <td>NaN</td>\n",
       "      <td>NaN</td>\n",
       "      <td>0.928406</td>\n",
       "      <td>0.997289</td>\n",
       "      <td>0.0</td>\n",
       "      <td>0.0</td>\n",
       "      <td>1.0</td>\n",
       "      <td>1.0</td>\n",
       "      <td>9.0</td>\n",
       "    </tr>\n",
       "    <tr>\n",
       "      <th>estuda</th>\n",
       "      <td>959870.0</td>\n",
       "      <td>NaN</td>\n",
       "      <td>NaN</td>\n",
       "      <td>NaN</td>\n",
       "      <td>0.442588</td>\n",
       "      <td>0.496693</td>\n",
       "      <td>0.0</td>\n",
       "      <td>0.0</td>\n",
       "      <td>0.0</td>\n",
       "      <td>1.0</td>\n",
       "      <td>1.0</td>\n",
       "    </tr>\n",
       "    <tr>\n",
       "      <th>trabalha</th>\n",
       "      <td>993647.0</td>\n",
       "      <td>NaN</td>\n",
       "      <td>NaN</td>\n",
       "      <td>NaN</td>\n",
       "      <td>0.556739</td>\n",
       "      <td>0.496771</td>\n",
       "      <td>0.0</td>\n",
       "      <td>0.0</td>\n",
       "      <td>1.0</td>\n",
       "      <td>1.0</td>\n",
       "      <td>1.0</td>\n",
       "    </tr>\n",
       "    <tr>\n",
       "      <th>pratica_esportes</th>\n",
       "      <td>850876.0</td>\n",
       "      <td>NaN</td>\n",
       "      <td>NaN</td>\n",
       "      <td>NaN</td>\n",
       "      <td>0.599823</td>\n",
       "      <td>0.489934</td>\n",
       "      <td>0.0</td>\n",
       "      <td>0.0</td>\n",
       "      <td>1.0</td>\n",
       "      <td>1.0</td>\n",
       "      <td>1.0</td>\n",
       "    </tr>\n",
       "    <tr>\n",
       "      <th>transporte_mais_utilizado</th>\n",
       "      <td>956967</td>\n",
       "      <td>3</td>\n",
       "      <td>publico</td>\n",
       "      <td>574779</td>\n",
       "      <td>NaN</td>\n",
       "      <td>NaN</td>\n",
       "      <td>NaN</td>\n",
       "      <td>NaN</td>\n",
       "      <td>NaN</td>\n",
       "      <td>NaN</td>\n",
       "      <td>NaN</td>\n",
       "    </tr>\n",
       "    <tr>\n",
       "      <th>IMC</th>\n",
       "      <td>886130.0</td>\n",
       "      <td>NaN</td>\n",
       "      <td>NaN</td>\n",
       "      <td>NaN</td>\n",
       "      <td>22.472079</td>\n",
       "      <td>7.073692</td>\n",
       "      <td>4.852828</td>\n",
       "      <td>17.420851</td>\n",
       "      <td>21.4312</td>\n",
       "      <td>26.378197</td>\n",
       "      <td>89.158204</td>\n",
       "    </tr>\n",
       "  </tbody>\n",
       "</table>\n",
       "</div>"
      ],
      "text/plain": [
       "                               count unique       top    freq       mean  \\\n",
       "name                       1000000.0    NaN       NaN     NaN   500000.5   \n",
       "idade                       904063.0    NaN       NaN     NaN  30.008431   \n",
       "estado_civil                  949927      4  solteiro  420637        NaN   \n",
       "qt_filhos                   971133.0    NaN       NaN     NaN   0.928406   \n",
       "estuda                      959870.0    NaN       NaN     NaN   0.442588   \n",
       "trabalha                    993647.0    NaN       NaN     NaN   0.556739   \n",
       "pratica_esportes            850876.0    NaN       NaN     NaN   0.599823   \n",
       "transporte_mais_utilizado     956967      3   publico  574779        NaN   \n",
       "IMC                         886130.0    NaN       NaN     NaN  22.472079   \n",
       "\n",
       "                                     std       min        25%       50%  \\\n",
       "name                       288675.278933       1.0  250000.75  500000.5   \n",
       "idade                          10.951566       0.0       22.0      29.0   \n",
       "estado_civil                         NaN       NaN        NaN       NaN   \n",
       "qt_filhos                       0.997289       0.0        0.0       1.0   \n",
       "estuda                          0.496693       0.0        0.0       0.0   \n",
       "trabalha                        0.496771       0.0        0.0       1.0   \n",
       "pratica_esportes                0.489934       0.0        0.0       1.0   \n",
       "transporte_mais_utilizado            NaN       NaN        NaN       NaN   \n",
       "IMC                             7.073692  4.852828  17.420851   21.4312   \n",
       "\n",
       "                                 75%        max  \n",
       "name                       750000.25  1000000.0  \n",
       "idade                           37.0      124.0  \n",
       "estado_civil                     NaN        NaN  \n",
       "qt_filhos                        1.0        9.0  \n",
       "estuda                           1.0        1.0  \n",
       "trabalha                         1.0        1.0  \n",
       "pratica_esportes                 1.0        1.0  \n",
       "transporte_mais_utilizado        NaN        NaN  \n",
       "IMC                        26.378197  89.158204  "
      ]
     },
     "execution_count": 22,
     "metadata": {},
     "output_type": "execute_result"
    }
   ],
   "source": [
    "ind_df.describe(include='all').T"
   ]
  },
  {
   "cell_type": "code",
   "execution_count": 23,
   "id": "98b96a9e-ffbc-43e3-9950-c811a1b8cdec",
   "metadata": {},
   "outputs": [
    {
     "data": {
      "text/plain": [
       "array(['divorciado', 'casado', 'solteiro', nan, 'viuvo'], dtype=object)"
      ]
     },
     "execution_count": 23,
     "metadata": {},
     "output_type": "execute_result"
    }
   ],
   "source": [
    "ind_df['estado_civil'].unique()"
   ]
  },
  {
   "cell_type": "code",
   "execution_count": 24,
   "id": "7a96ebf6-2691-4c3f-8d6c-7c9687cb9098",
   "metadata": {},
   "outputs": [
    {
     "data": {
      "text/plain": [
       "array(['publico', 'particular', 'taxi', nan], dtype=object)"
      ]
     },
     "execution_count": 24,
     "metadata": {},
     "output_type": "execute_result"
    }
   ],
   "source": [
    "ind_df['transporte_mais_utilizado'].unique()"
   ]
  },
  {
   "cell_type": "code",
   "execution_count": null,
   "id": "d3e3a9ed-7a42-4a1b-971d-3ce869fc63ca",
   "metadata": {},
   "outputs": [],
   "source": [
    "df_raw = pd.merge(ind_df.rename(columns=lambda x: x + '_V2'),\n",
    "                  conn_df, \n",
    "                  how='right',\n",
    "                  left_on='name_V2', \n",
    "                  right_on='V2')\n",
    "df_raw = pd.merge(ind_df.rename(columns=lambda x: x + '_V1'),\n",
    "                  df_raw, \n",
    "                  how='right',\n",
    "                  left_on='name_V1', \n",
    "                  right_on='V1')\n",
    "df_raw = df_raw.drop(['V1', 'V2'], axis=1)\n",
    "df_raw"
   ]
  },
  {
   "cell_type": "code",
   "execution_count": null,
   "id": "30d1021a-b1c5-4312-a7d3-542e55b4e3c9",
   "metadata": {},
   "outputs": [],
   "source": [
    "def logit(p):\n",
    "    return np.log(p / (1-p))\n",
    "\n",
    "def logistic(y):\n",
    "    ey = np.exp(y)\n",
    "    return ey / (1+ey)\n",
    "\n",
    "def cross_entropy_loss(y_true, y_pred):\n",
    "    p, q = logistic(y_true), logistic(y_pred)\n",
    "    return -(p*np.log(q) + (1-p)*np.log(1-q)).mean()"
   ]
  },
  {
   "cell_type": "code",
   "execution_count": null,
   "id": "efa3e1ed-e4be-4e4d-b749-0b140c224c5e",
   "metadata": {},
   "outputs": [],
   "source": [
    "categorical_cols = ['estado_civil_V1', 'estado_civil_V2',\n",
    "                    'transporte_mais_utilizado_V1', 'transporte_mais_utilizado_V2',\n",
    "                    'grau', 'proximidade']\n",
    "\n",
    "boolean_cols = ['estuda_V1', 'trabalha_V1', 'pratica_esportes_V1',\n",
    "                'estuda_V2', 'trabalha_V2', 'pratica_esportes_V2']\n",
    "\n",
    "numerical_cols = ['idade_V1', 'qt_filhos_V1', 'IMC_V1',\n",
    "                  'idade_V2', 'qt_filhos_V2', 'IMC_V2']\n",
    "\n",
    "cols_to_drop = ['name_V1', 'name_V2', 'prob_V1_V2']"
   ]
  },
  {
   "cell_type": "code",
   "execution_count": null,
   "id": "765e051a-6dcd-4c92-acf8-8c15316e5a7b",
   "metadata": {},
   "outputs": [],
   "source": [
    "df_bl = df_raw.copy(deep=True)\n",
    "\n",
    "df_bl['prob_V1_V2'].fillna(df_bl['prob_V1_V2'].median(skipna=True), inplace=True)"
   ]
  },
  {
   "cell_type": "code",
   "execution_count": null,
   "id": "31e3156c-4088-48ef-b7c7-37e4608fc134",
   "metadata": {},
   "outputs": [],
   "source": [
    "X_bl = df_bl.drop(cols_to_drop, axis=1)\n",
    "y_bl = df_bl['prob_V1_V2']\n",
    "\n",
    "X_bl_train_, X_bl_test_, y_bl_train, y_bl_test = train_test_split(X_bl,\n",
    "                                                                  logit(y_bl),\n",
    "                                                                  test_size=0.4,\n",
    "                                                                  random_state=42)"
   ]
  },
  {
   "cell_type": "code",
   "execution_count": null,
   "id": "9844a5c4-e66a-4957-a3a1-3ebcc44cf883",
   "metadata": {},
   "outputs": [],
   "source": [
    "X_bl_train, X_bl_test = X_bl_train_.copy(deep=True), X_bl_test_.copy(deep=True)\n",
    "\n",
    "mode_imp = SimpleImputer(strategy='most_frequent')\n",
    "mean_imp = SimpleImputer(strategy='mean')\n",
    "median_imp = SimpleImputer(strategy='median')\n",
    "\n",
    "X_bl_train[categorical_cols] = mode_imp.fit_transform(X_bl_train_[categorical_cols])\n",
    "X_bl_train[boolean_cols] = mean_imp.fit_transform(X_bl_train_[boolean_cols])\n",
    "X_bl_train[numerical_cols] = median_imp.fit_transform(X_bl_train_[numerical_cols])\n",
    "\n",
    "X_bl_test[categorical_cols] = mode_imp.transform(X_bl_test_[categorical_cols])\n",
    "X_bl_test[boolean_cols] = mean_imp.transform(X_bl_test_[boolean_cols])\n",
    "X_bl_test[numerical_cols] = median_imp.transform(X_bl_test_[numerical_cols])"
   ]
  },
  {
   "cell_type": "code",
   "execution_count": null,
   "id": "417d0475-039a-4788-a7aa-6f1bd2c07fc5",
   "metadata": {},
   "outputs": [],
   "source": [
    "one_enc = OneHotEncoder(drop='first', sparse=False)\n",
    "one_enc.fit(X_bl_train[categorical_cols])\n",
    "\n",
    "one_hot_cols = one_enc.get_feature_names(categorical_cols)\n",
    "\n",
    "X_bl_train[one_hot_cols] = one_enc.transform(X_bl_train[categorical_cols])\n",
    "X_bl_train.drop(categorical_cols, axis=1, inplace=True)\n",
    "\n",
    "X_bl_test[one_hot_cols] = one_enc.transform(X_bl_test[categorical_cols])\n",
    "X_bl_test.drop(categorical_cols, axis=1, inplace=True)"
   ]
  },
  {
   "cell_type": "code",
   "execution_count": null,
   "id": "f6b07f63-f700-425d-bf5e-547d49744861",
   "metadata": {},
   "outputs": [],
   "source": [
    "bl_model = LinearRegression().fit(X_bl_train, y_bl_train)"
   ]
  },
  {
   "cell_type": "code",
   "execution_count": null,
   "id": "e25a15a3-1e51-4e47-9715-36a0615b63e8",
   "metadata": {},
   "outputs": [],
   "source": [
    "train_loss = cross_entropy_loss(y_bl_train, bl_model.predict(X_bl_train))\n",
    "test_loss = cross_entropy_loss(y_bl_test, bl_model.predict(X_bl_test))\n",
    "\n",
    "print('baseline train loss:', train_loss)\n",
    "print('baseline test loss:', test_loss)"
   ]
  },
  {
   "cell_type": "code",
   "execution_count": null,
   "id": "28c98647-de3e-4053-ae13-a1044b81368c",
   "metadata": {},
   "outputs": [],
   "source": [
    "ind_df_1 = ind_df.copy(deep=True)"
   ]
  },
  {
   "cell_type": "code",
   "execution_count": null,
   "id": "3cd502a9-dcb6-43bb-ab13-fb9eafc8873f",
   "metadata": {},
   "outputs": [],
   "source": [
    "ind_df_1"
   ]
  },
  {
   "cell_type": "code",
   "execution_count": null,
   "id": "8cdb13c5-75aa-4ffe-ae5d-a84036076dbc",
   "metadata": {},
   "outputs": [],
   "source": [
    "cat_to_values = {'divorciado': 0,\n",
    "                 'casado': 1,\n",
    "                 'solteiro': 2,\n",
    "                 'viuvo': 3,\n",
    "                 'publico': 4,\n",
    "                 'particular': 5,\n",
    "                 'taxi': 6}\n",
    "\n",
    "ind_df_1_ = ind_df_1.replace(cat_to_values)\n",
    "\n",
    "scaler = MinMaxScaler()\n",
    "ind_df_1_ = scaler.fit_transform(ind_df_1_.drop('name', axis=1))"
   ]
  },
  {
   "cell_type": "code",
   "execution_count": null,
   "id": "25253625-0dcd-487f-a546-35b415bd73cb",
   "metadata": {},
   "outputs": [],
   "source": [
    "# %%time\n",
    "\n",
    "# knn_imp = KNNImputer(weights='distance')\n",
    "\n",
    "# ind_df_1_ = knn_imp.fit_transform(ind_df_1_)"
   ]
  },
  {
   "cell_type": "code",
   "execution_count": null,
   "id": "bcf50238-0bf8-4a06-b716-e43fbc53dcb5",
   "metadata": {},
   "outputs": [],
   "source": [
    "# ind_df_1_ = pd.DataFrame(scaler.inverse_transform(ind_df_1_), columns=ind_df_1_.columns)\n",
    "# ind_df_1 = pd.concat([ind_df_1['name'], ind_df_1_], axis=1)"
   ]
  },
  {
   "cell_type": "code",
   "execution_count": null,
   "id": "fc177194-3184-4cff-adf0-88aecd8eb2ea",
   "metadata": {},
   "outputs": [],
   "source": [
    "# cols = ['estado_civil', 'transporte_mais_utilizado']\n",
    "# values_to_cat = {v: k for (k, v) in cat_to_values.items()}\n",
    "# ind_df_1[cols] = ind_df_1[cols].round().replace(values_to_cat)"
   ]
  },
  {
   "cell_type": "code",
   "execution_count": null,
   "id": "ab62a7e8-6cc9-4252-8241-f87d39ffb4a6",
   "metadata": {},
   "outputs": [],
   "source": [
    "ind_df_1 = pd.read_csv('ind_df_filled_knn.csv')\n",
    "\n",
    "ind_df_1"
   ]
  },
  {
   "cell_type": "code",
   "execution_count": null,
   "id": "80b440f3-4d1a-4689-84c5-182135cf5e8d",
   "metadata": {},
   "outputs": [],
   "source": [
    "conn_df"
   ]
  },
  {
   "cell_type": "code",
   "execution_count": null,
   "id": "e3a4d446-c102-4bff-a14b-836efa50f5a1",
   "metadata": {},
   "outputs": [],
   "source": [
    "df_1 = pd.merge(ind_df_1.rename(columns=lambda x: x + '_V2'),\n",
    "                conn_df, \n",
    "                how='right',\n",
    "                left_on='name_V2', \n",
    "                right_on='V2')\n",
    "df_1 = pd.merge(ind_df_1.rename(columns=lambda x: x + '_V1'),\n",
    "                df_1, \n",
    "                how='right',\n",
    "                left_on='name_V1', \n",
    "                right_on='V1')\n",
    "df_1 = df_1.drop(['V1', 'V2'], axis=1)\n",
    "df_1"
   ]
  },
  {
   "cell_type": "code",
   "execution_count": null,
   "id": "f65d0e5b-5636-4229-9cab-6e291dc755eb",
   "metadata": {},
   "outputs": [],
   "source": [
    "scaler = MinMaxScaler()\n",
    "pca = PCA(n_components=0.9, random_state=42)\n",
    "\n",
    "df_1_ = pd.get_dummies(df_1.drop(cols_to_drop, axis=1), drop_first=True)\n",
    "df_1_ = pca.fit_transform(scaler.fit_transform(df_1_))\n",
    "pca_comps = [f'pc_{n+1}' for n in range(df_1_.shape[1])]\n",
    "df_1_ = pd.DataFrame(scaler.fit_transform(df_1_), columns=pca_comps)\n",
    "\n",
    "pd.Series(pca.explained_variance_ratio_, index=pca_comps).cumsum()"
   ]
  },
  {
   "cell_type": "code",
   "execution_count": null,
   "id": "479bccf1-06d7-4a6e-a7e4-7e947503f1e8",
   "metadata": {},
   "outputs": [],
   "source": [
    "df_1_ = df_1_.loc[:, :pca_comps[-1]]\n",
    "df_1_['prob_V1_V2'] = df_1['prob_V1_V2']\n",
    "\n",
    "df_1_"
   ]
  },
  {
   "cell_type": "code",
   "execution_count": null,
   "id": "4928d416-8b0b-4c9a-88c6-89017b268815",
   "metadata": {},
   "outputs": [],
   "source": [
    "df_1_.describe().T"
   ]
  },
  {
   "cell_type": "code",
   "execution_count": null,
   "id": "a05b0da3-8084-4a5d-a509-11784729490b",
   "metadata": {},
   "outputs": [],
   "source": [
    "mask = df_1_['prob_V1_V2'].isna()\n",
    "X_1_isna = df_1_.loc[mask].drop('prob_V1_V2', axis=1)\n",
    "X_1_notna = df_1_.loc[~mask].drop('prob_V1_V2', axis=1)\n",
    "y_1_notna = logit(df_1_.loc[~mask, 'prob_V1_V2'])"
   ]
  },
  {
   "cell_type": "code",
   "execution_count": null,
   "id": "00497b34-2c6c-4799-ac47-25e6527a54fb",
   "metadata": {},
   "outputs": [],
   "source": [
    "knn_reg_imp = KNeighborsRegressor(weights='distance', n_jobs=-1)\n",
    "\n",
    "knn_reg_imp.fit(X_1_notna, y_1_notna)\n",
    "\n",
    "df_1_.loc[mask, 'prob_V1_V2'] = logistic(knn_reg_imp.predict(X_1_isna))"
   ]
  },
  {
   "cell_type": "code",
   "execution_count": null,
   "id": "fd85ed84-012d-4f65-b77e-a91b5b71269d",
   "metadata": {},
   "outputs": [],
   "source": [
    "df_1['prob_V1_V2'] = df_1_['prob_V1_V2']\n",
    "\n",
    "X_1_, y_1 = df_1.drop(cols_to_drop, axis=1), df_1['prob_V1_V2']\n",
    "X_1 = pd.get_dummies(X_1_, drop_first=True)"
   ]
  },
  {
   "cell_type": "code",
   "execution_count": null,
   "id": "a48a21bf-ab3a-4417-a8d0-5cfc99788a81",
   "metadata": {},
   "outputs": [],
   "source": [
    "X_1_train, X_1_test, y_1_train, y_1_test = train_test_split(X_1,\n",
    "                                                            logit(y_1),\n",
    "                                                            test_size=0.4,\n",
    "                                                            random_state=42)"
   ]
  },
  {
   "cell_type": "code",
   "execution_count": null,
   "id": "1db9aa2f-69e2-4b2f-9924-ecebed843a72",
   "metadata": {},
   "outputs": [],
   "source": [
    "lr_1_model = LinearRegression().fit(X_1_train, y_1_train)"
   ]
  },
  {
   "cell_type": "code",
   "execution_count": null,
   "id": "c5f83739-c146-4a9d-bb5c-d040bd65f3bf",
   "metadata": {},
   "outputs": [],
   "source": [
    "train_loss = cross_entropy_loss(y_1_train, lr_1_model.predict(X_1_train))\n",
    "test_loss = cross_entropy_loss(y_1_test, lr_1_model.predict(X_1_test))\n",
    "\n",
    "print('lr_1 train loss:', train_loss)\n",
    "print('lr_1 test loss:', test_loss)"
   ]
  },
  {
   "cell_type": "code",
   "execution_count": null,
   "id": "a6e25512-d9fe-4bb2-95cb-0db28d8e2dfd",
   "metadata": {},
   "outputs": [],
   "source": [
    "ind_df_2 = ind_df.copy(deep=True)"
   ]
  },
  {
   "cell_type": "code",
   "execution_count": null,
   "id": "3a286acb-b45b-453b-99dc-c64f2b75a6b8",
   "metadata": {},
   "outputs": [],
   "source": [
    "ind_df_2"
   ]
  },
  {
   "cell_type": "code",
   "execution_count": null,
   "id": "2201d702-5aff-40e0-ac31-579cdd308fad",
   "metadata": {},
   "outputs": [],
   "source": [
    "ind_df_2.isna().mean().sort_values()"
   ]
  },
  {
   "cell_type": "code",
   "execution_count": null,
   "id": "e95eb707-e469-4a5c-bb84-86fc30515c21",
   "metadata": {},
   "outputs": [],
   "source": [
    "ind_df_2.corr().round(3)"
   ]
  },
  {
   "cell_type": "code",
   "execution_count": null,
   "id": "ae853e71-11dd-4943-80fc-674009637d4d",
   "metadata": {},
   "outputs": [],
   "source": [
    "ind_df_2['qt_filhos'].value_counts(normalize=True)"
   ]
  },
  {
   "cell_type": "code",
   "execution_count": null,
   "id": "524d4c74-b02a-47be-89a6-c1592bc1073f",
   "metadata": {},
   "outputs": [],
   "source": [
    "ind_df_2.loc[ind_df_2['qt_filhos'] > 1, 'qt_filhos'] = 2\n",
    "ind_df_2['qt_filhos'].value_counts(normalize=True)"
   ]
  },
  {
   "cell_type": "code",
   "execution_count": null,
   "id": "57af7da2-3c23-4814-b703-88e1d43ca7ab",
   "metadata": {},
   "outputs": [],
   "source": [
    "ind_df_2['estuda'].value_counts(normalize=True)"
   ]
  },
  {
   "cell_type": "code",
   "execution_count": null,
   "id": "4a763215-218b-4580-b97c-d1af2908deb8",
   "metadata": {},
   "outputs": [],
   "source": [
    "ind_df_2['trabalha'].value_counts(normalize=True)"
   ]
  },
  {
   "cell_type": "code",
   "execution_count": null,
   "id": "8f0fd7b0-6ff7-4042-9dfd-b784e0b64339",
   "metadata": {},
   "outputs": [],
   "source": [
    "fig, ax = plt.subplots(1, 3, figsize=(16, 4), sharey=True)\n",
    "sns.kdeplot(x='idade', hue='qt_filhos', data=ind_df_2, ax=ax[0])\n",
    "sns.kdeplot(x='idade', hue='estuda', data=ind_df_2, ax=ax[1])\n",
    "sns.kdeplot(x='idade', hue='trabalha', data=ind_df_2, ax=ax[2]);"
   ]
  },
  {
   "cell_type": "code",
   "execution_count": null,
   "id": "3153f824-b781-4765-877b-8da52b35ea45",
   "metadata": {},
   "outputs": [],
   "source": [
    "ind_df_2['idade_quantis'] = pd.qcut(ind_df_2['idade'], q=15, labels=range(1, 16))\n",
    "\n",
    "filhos_df = (ind_df_2\n",
    "             .groupby('idade_quantis')['qt_filhos']\n",
    "             .value_counts(normalize=True)\n",
    "             .rename('pct')\n",
    "             .reset_index())\n",
    "estuda_df = (ind_df_2\n",
    "             .groupby('idade_quantis')['estuda']\n",
    "             .value_counts(normalize=True)\n",
    "             .rename('pct')\n",
    "             .reset_index())\n",
    "trabalha_df = (ind_df_2\n",
    "               .groupby('idade_quantis')['trabalha']\n",
    "               .value_counts(normalize=True)\n",
    "               .rename('pct')\n",
    "               .reset_index())\n",
    "\n",
    "fig, ax = plt.subplots(1, 3, figsize=(16, 4), sharey=True)\n",
    "sns.barplot(x='idade_quantis', y='pct', hue='qt_filhos', data=filhos_df, ax=ax[0])\n",
    "sns.barplot(x='idade_quantis', y='pct', hue='estuda', data=estuda_df, ax=ax[1])\n",
    "ax[1].set_ylabel('')\n",
    "sns.barplot(x='idade_quantis', y='pct', hue='trabalha', data=trabalha_df, ax=ax[2])\n",
    "ax[2].set_ylabel('');"
   ]
  },
  {
   "cell_type": "code",
   "execution_count": null,
   "id": "005ba8b8-1aa9-4e11-865c-04322c13f920",
   "metadata": {},
   "outputs": [],
   "source": [
    "ind_df_2.loc[ind_df_2['idade_quantis'] == 1, 'idade'].describe().T"
   ]
  },
  {
   "cell_type": "code",
   "execution_count": null,
   "id": "193faafa-786e-451f-af40-5571d5f2fbc4",
   "metadata": {},
   "outputs": [],
   "source": [
    "ind_df_2_ = ind_df_2.query('idade_quantis > 1').copy(deep=True)"
   ]
  },
  {
   "cell_type": "code",
   "execution_count": null,
   "id": "486e6c3a-b640-45d9-8868-0b5d5780286e",
   "metadata": {},
   "outputs": [],
   "source": [
    "ind_df_2_.corr().round(3)"
   ]
  },
  {
   "cell_type": "code",
   "execution_count": null,
   "id": "cab8e182-7915-4217-9fcc-cf38931cdc26",
   "metadata": {},
   "outputs": [],
   "source": [
    "filhos_1 = (ind_df_2_\n",
    "            .groupby('estado_civil')['qt_filhos']\n",
    "            .value_counts(normalize=True)\n",
    "            .rename('pct')\n",
    "            .reset_index())\n",
    "estuda_1 = (ind_df_2_\n",
    "            .groupby('estado_civil')['estuda']\n",
    "            .value_counts(normalize=True)\n",
    "            .rename('pct')\n",
    "            .reset_index())\n",
    "trabalha_1 = (ind_df_2_\n",
    "              .groupby('estado_civil')['trabalha']\n",
    "              .value_counts(normalize=True)\n",
    "              .rename('pct')\n",
    "              .reset_index())\n",
    "filhos_2 = (ind_df_2_\n",
    "            .groupby('transporte_mais_utilizado')['qt_filhos']\n",
    "            .value_counts(normalize=True)\n",
    "            .rename('pct')\n",
    "            .reset_index())\n",
    "estuda_2 = (ind_df_2_\n",
    "            .groupby('transporte_mais_utilizado')['estuda']\n",
    "            .value_counts(normalize=True)\n",
    "            .rename('pct')\n",
    "            .reset_index())\n",
    "trabalha_2 = (ind_df_2_\n",
    "              .groupby('transporte_mais_utilizado')['trabalha']\n",
    "              .value_counts(normalize=True)\n",
    "              .rename('pct')\n",
    "              .reset_index())\n",
    "\n",
    "fig, ax = plt.subplots(3, 2, figsize=(9, 9), sharex=True)\n",
    "fig.tight_layout(w_pad=4)\n",
    "\n",
    "sns.barplot(x='estado_civil', y='pct', hue='qt_filhos', data=filhos_1, ax=ax[0, 0])\n",
    "ax[0, 0].set_xlabel('')\n",
    "ax[0, 0].get_legend().remove()\n",
    "sns.barplot(x='transporte_mais_utilizado', y='pct', hue='qt_filhos', data=filhos_2, ax=ax[0, 1])\n",
    "ax[0, 1].set_xlabel('')\n",
    "ax[0, 1].legend(bbox_to_anchor=(1.05, 1), loc=2, borderaxespad=0, title='qt_filhos')\n",
    "\n",
    "sns.barplot(x='estado_civil', y='pct', hue='estuda', data=estuda_1, ax=ax[1, 0])\n",
    "ax[1, 0].set_xlabel('')\n",
    "ax[1, 0].get_legend().remove()\n",
    "sns.barplot(x='transporte_mais_utilizado', y='pct', hue='estuda', data=estuda_2, ax=ax[1, 1])\n",
    "ax[1, 1].set_xlabel('')\n",
    "ax[1, 1].legend(bbox_to_anchor=(1.05, 1), loc=2, borderaxespad=0, title='estuda')\n",
    "\n",
    "sns.barplot(x='estado_civil', y='pct', hue='trabalha', data=trabalha_1, ax=ax[2, 0])\n",
    "ax[2, 0].get_legend().remove()\n",
    "sns.barplot(x='transporte_mais_utilizado', y='pct', hue='trabalha', data=trabalha_2, ax=ax[2, 1])\n",
    "ax[2, 1].legend(bbox_to_anchor=(1.05, 1), loc=2, borderaxespad=0, title='trabalha');"
   ]
  },
  {
   "cell_type": "code",
   "execution_count": null,
   "id": "aae97abd-1db2-4f04-9420-9872d5df8847",
   "metadata": {},
   "outputs": [],
   "source": [
    "filhos_pct_df = ind_df_2_['qt_filhos'].value_counts(normalize=True)\n",
    "filhos_pct_df"
   ]
  },
  {
   "cell_type": "code",
   "execution_count": null,
   "id": "de738476-659a-4006-a107-d09212fb0f42",
   "metadata": {},
   "outputs": [],
   "source": [
    "mask = ind_df_2['qt_filhos'].isna()\n",
    "ind_df_2.loc[mask & (ind_df_2['idade_quantis'] == 1), 'qt_filhos'] = 0\n",
    "ind_df_2['qt_filhos'].fillna(sum(filhos_pct_df.index*filhos_pct_df.values), inplace=True)"
   ]
  },
  {
   "cell_type": "code",
   "execution_count": null,
   "id": "283741a0-d933-4636-bfda-b2b4fe075df2",
   "metadata": {},
   "outputs": [],
   "source": [
    "estuda_pct_df = ind_df_2_['estuda'].value_counts(normalize=True)\n",
    "estuda_pct_df"
   ]
  },
  {
   "cell_type": "code",
   "execution_count": null,
   "id": "fc93bdfe-e982-4a6c-9fdb-6a46e4eb1ae1",
   "metadata": {},
   "outputs": [],
   "source": [
    "mask = ind_df_2['estuda'].isna()\n",
    "ind_df_2.loc[mask & (ind_df_2['idade_quantis'] == 1), 'estuda'] = 1\n",
    "ind_df_2['estuda'].fillna(sum(estuda_pct_df.index*estuda_pct_df.values), inplace=True)"
   ]
  },
  {
   "cell_type": "code",
   "execution_count": null,
   "id": "f392f625-009c-4720-ae97-4925bfa00d3d",
   "metadata": {},
   "outputs": [],
   "source": [
    "trabalha_pct_df = ind_df_2_['trabalha'].value_counts(normalize=True)\n",
    "trabalha_pct_df"
   ]
  },
  {
   "cell_type": "code",
   "execution_count": null,
   "id": "03f75f4b-e075-4963-abe7-d2ebaa87bb58",
   "metadata": {},
   "outputs": [],
   "source": [
    "names_V1 = conn_df.loc[conn_df['grau'] == 'trabalho', 'V1'].unique()\n",
    "names_V2 = conn_df.loc[conn_df['grau'] == 'trabalho', 'V2'].unique()\n",
    "names = np.append(names_V1, names_V2)\n",
    "\n",
    "mask = ind_df_2['trabalha'].isna()\n",
    "ind_df_2.loc[mask & ind_df_2.index.isin(names), 'trabalha'] = 1\n",
    "ind_df_2.loc[mask & (ind_df_2['idade_quantis'] == 1), 'trabalha'] = 0\n",
    "ind_df_2['trabalha'].fillna(sum(trabalha_pct_df.index*trabalha_pct_df.values), inplace=True)"
   ]
  },
  {
   "cell_type": "code",
   "execution_count": null,
   "id": "ca54c39b-6746-4580-8a61-bbaca3cda0f8",
   "metadata": {},
   "outputs": [],
   "source": [
    "ind_df_2_['IMC_quantis'] = pd.qcut(ind_df_2_['IMC'], q=10, labels=range(1, 11))"
   ]
  },
  {
   "cell_type": "code",
   "execution_count": null,
   "id": "60f6f9cd-5dc6-4b31-aaf8-8c7394db940d",
   "metadata": {},
   "outputs": [],
   "source": [
    "fig, ax = plt.subplots(3, 3, figsize=(13, 11))\n",
    "fig.tight_layout(h_pad=3, w_pad=4)\n",
    "\n",
    "sns.kdeplot(x='idade', hue='transporte_mais_utilizado', data=ind_df_2, ax=ax[0, 0])\n",
    "\n",
    "cols = ['idade_quantis', 'estado_civil', 'qt_filhos', 'estuda', 'trabalha', 'pratica_esportes']\n",
    "for n, c in enumerate(cols, start=1):\n",
    "    tmp = (ind_df_2\n",
    "           .groupby(c)['transporte_mais_utilizado']\n",
    "           .value_counts(normalize=True)\n",
    "           .rename('pct')\n",
    "           .reset_index())\n",
    "    g = sns.barplot(x=c, y='pct', hue='transporte_mais_utilizado', data=tmp, ax=ax[n//3, n%3])\n",
    "    if c in ['qt_filhos', 'estuda', 'trabalha']:\n",
    "        g.set_xticklabels(labels=['{:.1f}'.format(x) for x in tmp[c].unique()])\n",
    "    ax[n//3, n%3].get_legend().remove()\n",
    "\n",
    "tmp = (ind_df_2_\n",
    "       .groupby('IMC_quantis')['transporte_mais_utilizado']\n",
    "       .value_counts(normalize=True)\n",
    "       .rename('pct')\n",
    "       .reset_index())\n",
    "sns.kdeplot(x='IMC', hue='transporte_mais_utilizado', data=ind_df_2, ax=ax[2, 1])\n",
    "sns.barplot(x='IMC_quantis', y='pct', hue='transporte_mais_utilizado', data=tmp, ax=ax[2, 2])\n",
    "ax[2, 2].get_legend().remove();"
   ]
  },
  {
   "cell_type": "code",
   "execution_count": null,
   "id": "3c47816b-e567-40b6-afd8-83446b847cf7",
   "metadata": {},
   "outputs": [],
   "source": [
    "transp_pct_df = ind_df_2['transporte_mais_utilizado'].value_counts(normalize=True)\n",
    "transp_pct_df"
   ]
  },
  {
   "cell_type": "code",
   "execution_count": null,
   "id": "8b6af0e8-9412-405d-ac91-751b45c91df9",
   "metadata": {},
   "outputs": [],
   "source": [
    "ind_df_2['transporte_mais_utilizado'].fillna('outros', inplace=True)"
   ]
  },
  {
   "cell_type": "code",
   "execution_count": null,
   "id": "f41183e3-7f90-4729-b1fb-ce6822a619e7",
   "metadata": {},
   "outputs": [],
   "source": [
    "fig, ax = plt.subplots(3, 3, figsize=(13, 11))\n",
    "fig.tight_layout(h_pad=3, w_pad=4)\n",
    "\n",
    "tmp = (ind_df_2\n",
    "       .groupby('idade_quantis')['estado_civil']\n",
    "       .value_counts(normalize=True)\n",
    "       .rename('pct')\n",
    "       .reset_index())\n",
    "\n",
    "sns.kdeplot(x='idade', hue='estado_civil', data=ind_df_2, ax=ax[0, 0])\n",
    "sns.barplot(x='idade_quantis', y='pct', hue='estado_civil', data=tmp, ax=ax[0, 1])\n",
    "\n",
    "cols = ['qt_filhos', 'estuda', 'trabalha', 'pratica_esportes', 'transporte_mais_utilizado']\n",
    "for n, c in enumerate(cols, start=2):\n",
    "    tmp = (ind_df_2_\n",
    "           .groupby(c)['estado_civil']\n",
    "           .value_counts(normalize=True)\n",
    "           .rename('pct')\n",
    "           .reset_index())\n",
    "    g = sns.barplot(x=c, y='pct', hue='estado_civil', data=tmp, ax=ax[n//3, n%3])\n",
    "    if c in ['qt_filhos', 'estuda', 'trabalha']:\n",
    "        g.set_xticklabels(labels=['{:.1f}'.format(x) for x in tmp[c].unique()])\n",
    "    ax[n//3, n%3].get_legend().remove()\n",
    "\n",
    "tmp = (ind_df_2_\n",
    "       .groupby('IMC_quantis')['estado_civil']\n",
    "       .value_counts(normalize=True)\n",
    "       .rename('pct')\n",
    "       .reset_index())\n",
    "sns.kdeplot(x='IMC', hue='estado_civil', data=ind_df_2_, ax=ax[2, 1])\n",
    "sns.barplot(x='IMC_quantis', y='pct', hue='estado_civil', data=tmp, ax=ax[2, 2])\n",
    "ax[2, 2].get_legend().remove();"
   ]
  },
  {
   "cell_type": "code",
   "execution_count": null,
   "id": "5b06fb59-1d8d-4d38-b27f-3e1219da9b9e",
   "metadata": {},
   "outputs": [],
   "source": [
    "estcv_pct_df = ind_df_2_['estado_civil'].value_counts(normalize=True)\n",
    "estcv_pct_df"
   ]
  },
  {
   "cell_type": "code",
   "execution_count": null,
   "id": "7bbd191c-a754-486d-8f6f-5880309cf51b",
   "metadata": {},
   "outputs": [],
   "source": [
    "mask = ind_df_2['estado_civil'].isna()\n",
    "ind_df_2.loc[mask & (ind_df_2['idade_quantis'] == 1), 'estado_civil'] = 'solteiro'\n",
    "ind_df_2['estado_civil'].fillna('outros', inplace=True)"
   ]
  },
  {
   "cell_type": "code",
   "execution_count": null,
   "id": "d0b86391-b5cb-4e22-87a5-3b14add109a4",
   "metadata": {},
   "outputs": [],
   "source": [
    "fig, ax = plt.subplots(3, 3, figsize=(13, 11))\n",
    "fig.tight_layout(h_pad=3, w_pad=4)\n",
    "\n",
    "sns.kdeplot(x='idade', hue='pratica_esportes', data=ind_df_2, ax=ax[0, 0])\n",
    "\n",
    "cols = ['idade_quantis', 'estado_civil', 'qt_filhos', 'estuda', 'trabalha', 'transporte_mais_utilizado']\n",
    "for n, c in enumerate(cols, start=1):\n",
    "    tmp = (ind_df_2\n",
    "           .groupby(c)['pratica_esportes']\n",
    "           .value_counts(normalize=True)\n",
    "           .rename('pct')\n",
    "           .reset_index())\n",
    "    g = sns.barplot(x=c, y='pct', hue='pratica_esportes', data=tmp, ax=ax[n//3, n%3])\n",
    "    if c in ['qt_filhos', 'estuda', 'trabalha']:\n",
    "        g.set_xticklabels(labels=['{:.1f}'.format(x) for x in tmp[c].unique()])\n",
    "    ax[n//3, n%3].get_legend().remove()\n",
    "\n",
    "tmp = (ind_df_2_\n",
    "       .groupby('IMC_quantis')['pratica_esportes']\n",
    "       .value_counts(normalize=True)\n",
    "       .rename('pct')\n",
    "       .reset_index())\n",
    "sns.kdeplot(x='IMC', hue='pratica_esportes', data=ind_df_2, ax=ax[2, 1])\n",
    "sns.barplot(x='IMC_quantis', y='pct', hue='pratica_esportes', data=tmp, ax=ax[2, 2])\n",
    "ax[2, 2].get_legend().remove();"
   ]
  },
  {
   "cell_type": "code",
   "execution_count": null,
   "id": "9c7a2888-ea64-4822-bfc6-da8f2903e5d3",
   "metadata": {},
   "outputs": [],
   "source": [
    "esportes_pct_df = ind_df_2_['pratica_esportes'].value_counts(normalize=True)\n",
    "esportes_pct_df"
   ]
  },
  {
   "cell_type": "code",
   "execution_count": null,
   "id": "62478f62-9c8a-4628-80a8-d9373d07760f",
   "metadata": {},
   "outputs": [],
   "source": [
    "mask = ind_df_2['pratica_esportes'].isna()\n",
    "ind_df_2['pratica_esportes'].fillna(sum(esportes_pct_df.index*esportes_pct_df.values), inplace=True)"
   ]
  },
  {
   "cell_type": "code",
   "execution_count": null,
   "id": "7c726d6a-87b2-4fee-8231-cbd4589f4c3c",
   "metadata": {},
   "outputs": [],
   "source": [
    "ind_df_2['IMC'].fillna(ind_df_2['IMC'].median(skipna=True), inplace=True)\n",
    "ind_df_2['idade'].fillna(ind_df_2['idade'].median(skipna=True), inplace=True)\n",
    "\n",
    "ind_df_2.drop('idade_quantis', axis=1, inplace=True)"
   ]
  },
  {
   "cell_type": "code",
   "execution_count": null,
   "id": "241b4881-ad1c-4e09-87c5-187312e5bed1",
   "metadata": {},
   "outputs": [],
   "source": [
    "df_2 = pd.merge(ind_df_2.rename(columns=lambda x: x + '_V2'),\n",
    "                conn_df, \n",
    "                how='right',\n",
    "                left_on='name_V2', \n",
    "                right_on='V2')\n",
    "df_2 = pd.merge(ind_df_2.rename(columns=lambda x: x + '_V1'),\n",
    "                df_2, \n",
    "                how='right',\n",
    "                left_on='name_V1', \n",
    "                right_on='V1')\n",
    "df_2 = df_2.drop(['V1', 'V2'], axis=1)\n",
    "df_2"
   ]
  },
  {
   "cell_type": "code",
   "execution_count": null,
   "id": "ffd21b68-19d3-4346-bd77-d7489fa0af99",
   "metadata": {},
   "outputs": [],
   "source": [
    "scaler = MinMaxScaler()\n",
    "pca = PCA(n_components=0.9, random_state=42)\n",
    "\n",
    "df_2_ = pd.get_dummies(df_2.drop(cols_to_drop, axis=1), drop_first=True)\n",
    "df_2_ = pca.fit_transform(scaler.fit_transform(df_2_))\n",
    "pca_comps = [f'pc_{n+1}' for n in range(df_2_.shape[1])]\n",
    "df_2_ = pd.DataFrame(scaler.fit_transform(df_2_), columns=pca_comps)\n",
    "\n",
    "pd.Series(pca.explained_variance_ratio_, index=pca_comps).cumsum()"
   ]
  },
  {
   "cell_type": "code",
   "execution_count": null,
   "id": "4d96bfc8-08ed-4d91-ac62-b63be7cfa438",
   "metadata": {},
   "outputs": [],
   "source": [
    "df_2_ = df_2_.loc[:, :pca_comps[-1]]\n",
    "df_2_['prob_V1_V2'] = df_2['prob_V1_V2']\n",
    "\n",
    "df_2_"
   ]
  },
  {
   "cell_type": "code",
   "execution_count": null,
   "id": "a30f16db-386a-48a9-9810-40ae09f1d145",
   "metadata": {},
   "outputs": [],
   "source": [
    "df_2_.describe().T"
   ]
  },
  {
   "cell_type": "code",
   "execution_count": null,
   "id": "06eb3cc7-5e46-4b5d-b8bb-b42a3f877590",
   "metadata": {},
   "outputs": [],
   "source": [
    "mask = df_2_['prob_V1_V2'].isna()\n",
    "X_2_isna = df_2_.loc[mask].drop('prob_V1_V2', axis=1)\n",
    "X_2_notna = df_2_.loc[~mask].drop('prob_V1_V2', axis=1)\n",
    "y_2_notna = logit(df_2_.loc[~mask, 'prob_V1_V2'])"
   ]
  },
  {
   "cell_type": "code",
   "execution_count": null,
   "id": "dbc94801-81f0-44bc-9313-ea9c80c760bc",
   "metadata": {},
   "outputs": [],
   "source": [
    "# %%time\n",
    "\n",
    "# knn_reg_imp = KNeighborsRegressor(weights='distance', n_jobs=-1)\n",
    "\n",
    "# knn_reg_imp.fit(X_2_notna, y_2_notna)\n",
    "\n",
    "# df_2_.loc[mask, 'prob_V1_V2'] = logistic(knn_reg_imp.predict(X_2_isna))"
   ]
  },
  {
   "cell_type": "code",
   "execution_count": null,
   "id": "a1e2fbb5-41e8-42c8-bc46-c1a65b096af7",
   "metadata": {},
   "outputs": [],
   "source": [
    "df_2['prob_V1_V2'] = df_2_['prob_V1_V2']\n",
    "\n",
    "X_2_, y_2 = df_2.drop(cols_to_drop, axis=1), df_2['prob_V1_V2']\n",
    "X_2 = pd.get_dummies(X_2_, drop_first=True)"
   ]
  },
  {
   "cell_type": "code",
   "execution_count": null,
   "id": "2645251b-9dfa-4ca5-9e14-afce0b82fbb7",
   "metadata": {},
   "outputs": [],
   "source": [
    "X_2_train, X_2_test, y_2_train, y_2_test = train_test_split(X_2,\n",
    "                                                            logit(y_2),\n",
    "                                                            test_size=0.4,\n",
    "                                                            random_state=42)\n",
    "\n",
    "# lr_2_model = LinearRegression().fit(X_2_train, y_2_train)\n",
    "lr_2_model = joblib.load('lr_2_model.pkl')"
   ]
  },
  {
   "cell_type": "code",
   "execution_count": null,
   "id": "99c94ccc-e810-4411-8547-d057f0cde945",
   "metadata": {},
   "outputs": [],
   "source": [
    "train_loss = cross_entropy_loss(y_2_train, lr_2_model.predict(X_2_train))\n",
    "test_loss = cross_entropy_loss(y_2_test, lr_2_model.predict(X_2_test))\n",
    "\n",
    "print('lr_2 train loss:', train_loss)\n",
    "print('lr_2 test loss:', test_loss)"
   ]
  },
  {
   "cell_type": "code",
   "execution_count": null,
   "id": "5297a59c-ff03-4a31-af6f-c2f04806604d",
   "metadata": {},
   "outputs": [],
   "source": [
    "df_raw_ = pd.get_dummies(df_raw.drop(['name_V1', 'name_V2'], axis=1), drop_first=True)\n",
    "X_3_train, X_3_test, y_3_train, y_3_test = train_test_split(df_raw_.drop('prob_V1_V2', axis=1),\n",
    "                                                            logit(df_raw_['prob_V1_V2']),\n",
    "                                                            test_size=0.4,\n",
    "                                                            random_state=42)"
   ]
  },
  {
   "cell_type": "code",
   "execution_count": null,
   "id": "27255111-28c2-41ac-8676-161f2ac9831b",
   "metadata": {},
   "outputs": [],
   "source": [
    "lgbm_reg = lgb.LGBMRegressor(random_state=42)\n",
    "lgbm_reg.fit(X_3_train, y_3_train);"
   ]
  },
  {
   "cell_type": "code",
   "execution_count": null,
   "id": "bbe97f1e-54e9-4331-a834-51142cadbd80",
   "metadata": {},
   "outputs": [],
   "source": [
    "train_loss = cross_entropy_loss(y_3_train, lgbm_reg.predict(X_3_train))\n",
    "test_loss = cross_entropy_loss(y_3_test, lgbm_reg.predict(X_3_test))\n",
    "\n",
    "print('lgbr train loss:', train_loss)\n",
    "print('lgbr test loss:', test_loss)"
   ]
  },
  {
   "cell_type": "code",
   "execution_count": null,
   "id": "56d54865-f524-4aed-a39c-6b8a4736b5b8",
   "metadata": {},
   "outputs": [],
   "source": []
  }
 ],
 "metadata": {
  "kernelspec": {
   "display_name": "Python 3 (ipykernel)",
   "language": "python",
   "name": "python3"
  },
  "language_info": {
   "codemirror_mode": {
    "name": "ipython",
    "version": 3
   },
   "file_extension": ".py",
   "mimetype": "text/x-python",
   "name": "python",
   "nbconvert_exporter": "python",
   "pygments_lexer": "ipython3",
   "version": "3.8.11"
  },
  "toc-autonumbering": true
 },
 "nbformat": 4,
 "nbformat_minor": 5
}
