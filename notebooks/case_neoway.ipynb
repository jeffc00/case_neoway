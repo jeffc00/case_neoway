{
 "cells": [
  {
   "cell_type": "code",
   "execution_count": null,
   "id": "ed4386d5-138c-467b-8a55-163ec1c21c69",
   "metadata": {},
   "outputs": [],
   "source": [
    "import warnings\n",
    "warnings.filterwarnings('ignore')\n",
    "\n",
    "import joblib\n",
    "import lightgbm as lgb\n",
    "import numpy as np\n",
    "import matplotlib.pyplot as plt\n",
    "import pandas as pd\n",
    "import seaborn as sns\n",
    "\n",
    "from multiprocessing import Pool\n",
    "from scipy import stats\n",
    "from sklearn.decomposition import PCA\n",
    "from sklearn.inspection import permutation_importance\n",
    "from sklearn.impute import KNNImputer, SimpleImputer\n",
    "from sklearn.linear_model import LassoCV, LinearRegression\n",
    "from sklearn.metrics import make_scorer\n",
    "from sklearn.model_selection import train_test_split\n",
    "from sklearn.neighbors import KNeighborsRegressor\n",
    "from sklearn.preprocessing import MinMaxScaler, OneHotEncoder, StandardScaler\n",
    "from tqdm import tqdm"
   ]
  },
  {
   "cell_type": "markdown",
   "id": "bd4df401-1ab0-43bd-8b51-3875557f454d",
   "metadata": {
    "tags": []
   },
   "source": [
    "# Carregando os datasets\n",
    "\n",
    "Abaixo observa-se que ambos os datasets `ind_df` e `conn_df` possuem missing values. Em particular, chama a atenção o fato de que em `conn_df` os missing values concentram-se na variável target, a probabilidade de contaminação."
   ]
  },
  {
   "cell_type": "markdown",
   "id": "c3be452d-e1a7-4a40-95b5-aa2d3754b502",
   "metadata": {},
   "source": [
    "## conn_df"
   ]
  },
  {
   "cell_type": "code",
   "execution_count": null,
   "id": "eddc0897-f57a-44a1-bec6-7d18cab0f94a",
   "metadata": {},
   "outputs": [],
   "source": [
    "conn_df = pd.read_csv('../data/raw/conexoes_espec.csv', sep=';')"
   ]
  },
  {
   "cell_type": "code",
   "execution_count": null,
   "id": "74f05bce-a6ca-4d27-95f9-84f90a69d756",
   "metadata": {},
   "outputs": [],
   "source": [
    "conn_df"
   ]
  },
  {
   "cell_type": "code",
   "execution_count": null,
   "id": "9c78180c-bfe9-4e9b-81eb-e892f8cacdcf",
   "metadata": {},
   "outputs": [],
   "source": [
    "conn_df.info()"
   ]
  },
  {
   "cell_type": "code",
   "execution_count": null,
   "id": "32a4918e-bd11-45bc-a5cf-2ff3bd463aad",
   "metadata": {},
   "outputs": [],
   "source": [
    "conn_df.describe(include='all').T"
   ]
  },
  {
   "cell_type": "code",
   "execution_count": null,
   "id": "6cf2f21f-eef7-4428-b8c5-9c20546585b2",
   "metadata": {},
   "outputs": [],
   "source": [
    "conn_df['grau'].unique()"
   ]
  },
  {
   "cell_type": "code",
   "execution_count": null,
   "id": "ffd47555-2f28-4cd6-ae5f-f5ea7e86b243",
   "metadata": {},
   "outputs": [],
   "source": [
    "conn_df['proximidade'].unique()"
   ]
  },
  {
   "cell_type": "markdown",
   "id": "9841e393-7d80-464f-b5fe-8ae26f9bafdc",
   "metadata": {},
   "source": [
    "## ind_df"
   ]
  },
  {
   "cell_type": "code",
   "execution_count": null,
   "id": "ccc111f5-8e8f-4bea-bbfd-9ea0b5be7d2e",
   "metadata": {},
   "outputs": [],
   "source": [
    "ind_df = pd.read_csv('../data/raw/individuos_espec.csv', sep=';')"
   ]
  },
  {
   "cell_type": "code",
   "execution_count": null,
   "id": "9dd28066-fa6e-423a-839e-389778e90fba",
   "metadata": {},
   "outputs": [],
   "source": [
    "ind_df"
   ]
  },
  {
   "cell_type": "code",
   "execution_count": null,
   "id": "1addb6f8-7033-4fb6-9819-6ed14dcf29ba",
   "metadata": {},
   "outputs": [],
   "source": [
    "ind_df.info()"
   ]
  },
  {
   "cell_type": "code",
   "execution_count": null,
   "id": "d968b55c-086a-4974-8bcd-fad07f9c3905",
   "metadata": {},
   "outputs": [],
   "source": [
    "ind_df.describe(include='all').T"
   ]
  },
  {
   "cell_type": "code",
   "execution_count": null,
   "id": "98b96a9e-ffbc-43e3-9950-c811a1b8cdec",
   "metadata": {},
   "outputs": [],
   "source": [
    "ind_df['estado_civil'].unique()"
   ]
  },
  {
   "cell_type": "code",
   "execution_count": null,
   "id": "7a96ebf6-2691-4c3f-8d6c-7c9687cb9098",
   "metadata": {},
   "outputs": [],
   "source": [
    "ind_df['transporte_mais_utilizado'].unique()"
   ]
  },
  {
   "cell_type": "markdown",
   "id": "c75d52dd-e506-4d2c-9922-d327a94660df",
   "metadata": {},
   "source": [
    "## Combinando ind_df e conn_df"
   ]
  },
  {
   "cell_type": "code",
   "execution_count": null,
   "id": "d3e3a9ed-7a42-4a1b-971d-3ce869fc63ca",
   "metadata": {},
   "outputs": [],
   "source": [
    "df_raw = pd.merge(ind_df.rename(columns=lambda x: x + '_V2'),\n",
    "                  conn_df, \n",
    "                  how='right',\n",
    "                  left_on='name_V2', \n",
    "                  right_on='V2')\n",
    "df_raw = pd.merge(ind_df.rename(columns=lambda x: x + '_V1'),\n",
    "                  df_raw, \n",
    "                  how='right',\n",
    "                  left_on='name_V1', \n",
    "                  right_on='V1')\n",
    "df_raw = df_raw.drop(['V1', 'V2'], axis=1)\n",
    "df_raw"
   ]
  },
  {
   "cell_type": "markdown",
   "id": "f5606009-04a8-42a5-af14-d187059ed1d4",
   "metadata": {},
   "source": [
    "# Utils\n",
    "\n",
    "Modelos de classificação do scikit-learn não aceitam probabilidade como variável target, portanto a estratégia adotada para treinar modelos e estimar as probabilidades de contaminação foi:\n",
    "1. aplicar a transformação logit (inversa da função sigmoide) às probabilidades, a fim de que possam assumir qualquer valor real;\n",
    "2. treinar modelos de regressão utilizando os logits das probabilidades;\n",
    "3. aplicar a transformação sigmoide aos resultados obtidos, e assim recuperar o target em termos de probabilidades; e\n",
    "4. comparar a performance dos modelos usando a função de perda cross-entropy."
   ]
  },
  {
   "cell_type": "code",
   "execution_count": null,
   "id": "30d1021a-b1c5-4312-a7d3-542e55b4e3c9",
   "metadata": {},
   "outputs": [],
   "source": [
    "def logit(p):\n",
    "    return np.log(p / (1-p))\n",
    "\n",
    "def sigmoid(y):\n",
    "    ey = np.exp(y)\n",
    "    return ey / (1+ey)\n",
    "\n",
    "def cross_entropy_loss(y_true, y_pred):\n",
    "    p, q = sigmoid(y_true), sigmoid(y_pred)\n",
    "    return -(p*np.log(q) + (1-p)*np.log(1-q)).mean()"
   ]
  },
  {
   "cell_type": "markdown",
   "id": "c39bfb0b-c345-4218-b356-17b9422ce2d7",
   "metadata": {},
   "source": [
    "# Modelos"
   ]
  },
  {
   "cell_type": "code",
   "execution_count": null,
   "id": "8ecdb811-d8ad-45dc-aef7-e66087aed51b",
   "metadata": {},
   "outputs": [],
   "source": [
    "categorical_cols = ['estado_civil_V1', 'estado_civil_V2',\n",
    "                    'transporte_mais_utilizado_V1', 'transporte_mais_utilizado_V2',\n",
    "                    'grau', 'proximidade']\n",
    "\n",
    "boolean_cols = ['estuda_V1', 'trabalha_V1', 'pratica_esportes_V1',\n",
    "                'estuda_V2', 'trabalha_V2', 'pratica_esportes_V2']\n",
    "\n",
    "numerical_cols = ['idade_V1', 'qt_filhos_V1', 'IMC_V1',\n",
    "                  'idade_V2', 'qt_filhos_V2', 'IMC_V2']\n",
    "\n",
    "cols_to_drop = ['name_V1', 'name_V2', 'prob_V1_V2']"
   ]
  },
  {
   "cell_type": "markdown",
   "id": "bc9b76b3-e1cc-4b6f-815f-bc014b553d34",
   "metadata": {
    "tags": []
   },
   "source": [
    "## Modelo Baseline\n",
    "\n",
    "A fim de se obter rapidamente um modelo baseline cuja performance servirá como benchmark para os demais modelos, os missing values foram imputados da forma mais básica possível, de acordo com as seguintes estratégias:\n",
    "1. variáveis categóricas $\\leftarrow$ moda\n",
    "2. variáveis booleanas $\\leftarrow$ média\n",
    "3. variáveis numéricas $\\leftarrow$ mediana.\n",
    "\n",
    "Para os demais modelos, foram testadas diferentes estratégias para imputar os missing values em `ind_df`. Já no caso de `conn_df`, foi utilizada sempre a mesma estratégia de imputar os missing values com as predições do modelo KNN Regressor (aplicado a uma versão do dataset original com a dimensionalidade reduzida pelo método PCA, buscando preservar cerca de 90% da variância explicada pelas features originais), treinado em um dataset com dados completos. Por fim, o target foi, em todos os casos, estimado utilizando-se a Regressão Linear a fim de que a comparabilidade das estratégias de imputação fosse preservada.\n",
    "\n",
    "\n",
    "A única exceção a estas regras foi o último modelo, LightGBM Regressor, por se tratar de um que a presença de missing values entre os dados não representa um problema."
   ]
  },
  {
   "cell_type": "code",
   "execution_count": null,
   "id": "765e051a-6dcd-4c92-acf8-8c15316e5a7b",
   "metadata": {},
   "outputs": [],
   "source": [
    "df_bl = df_raw.copy(deep=True)\n",
    "\n",
    "df_bl['prob_V1_V2'].fillna(df_bl['prob_V1_V2'].median(skipna=True), inplace=True)"
   ]
  },
  {
   "cell_type": "code",
   "execution_count": null,
   "id": "31e3156c-4088-48ef-b7c7-37e4608fc134",
   "metadata": {},
   "outputs": [],
   "source": [
    "X_bl = df_bl.drop(cols_to_drop, axis=1)\n",
    "y_bl = df_bl['prob_V1_V2']\n",
    "\n",
    "X_bl_train_, X_bl_test_, y_bl_train, y_bl_test = train_test_split(X_bl,\n",
    "                                                                  logit(y_bl),\n",
    "                                                                  test_size=0.4,\n",
    "                                                                  random_state=42)"
   ]
  },
  {
   "cell_type": "code",
   "execution_count": null,
   "id": "9844a5c4-e66a-4957-a3a1-3ebcc44cf883",
   "metadata": {},
   "outputs": [],
   "source": [
    "X_bl_train, X_bl_test = X_bl_train_.copy(deep=True), X_bl_test_.copy(deep=True)\n",
    "\n",
    "mode_imp = SimpleImputer(strategy='most_frequent')\n",
    "mean_imp = SimpleImputer(strategy='mean')\n",
    "median_imp = SimpleImputer(strategy='median')\n",
    "\n",
    "X_bl_train[categorical_cols] = mode_imp.fit_transform(X_bl_train_[categorical_cols])\n",
    "X_bl_train[boolean_cols] = mean_imp.fit_transform(X_bl_train_[boolean_cols])\n",
    "X_bl_train[numerical_cols] = median_imp.fit_transform(X_bl_train_[numerical_cols])\n",
    "\n",
    "X_bl_test[categorical_cols] = mode_imp.transform(X_bl_test_[categorical_cols])\n",
    "X_bl_test[boolean_cols] = mean_imp.transform(X_bl_test_[boolean_cols])\n",
    "X_bl_test[numerical_cols] = median_imp.transform(X_bl_test_[numerical_cols])"
   ]
  },
  {
   "cell_type": "code",
   "execution_count": null,
   "id": "417d0475-039a-4788-a7aa-6f1bd2c07fc5",
   "metadata": {},
   "outputs": [],
   "source": [
    "one_enc = OneHotEncoder(drop='first', sparse=False)\n",
    "one_enc.fit(X_bl_train[categorical_cols])\n",
    "\n",
    "one_hot_cols = one_enc.get_feature_names(categorical_cols)\n",
    "\n",
    "X_bl_train[one_hot_cols] = one_enc.transform(X_bl_train[categorical_cols])\n",
    "X_bl_train.drop(categorical_cols, axis=1, inplace=True)\n",
    "\n",
    "X_bl_test[one_hot_cols] = one_enc.transform(X_bl_test[categorical_cols])\n",
    "X_bl_test.drop(categorical_cols, axis=1, inplace=True)"
   ]
  },
  {
   "cell_type": "code",
   "execution_count": null,
   "id": "f6b07f63-f700-425d-bf5e-547d49744861",
   "metadata": {},
   "outputs": [],
   "source": [
    "bl_model = LinearRegression().fit(X_bl_train, y_bl_train)"
   ]
  },
  {
   "cell_type": "code",
   "execution_count": null,
   "id": "e25a15a3-1e51-4e47-9715-36a0615b63e8",
   "metadata": {},
   "outputs": [],
   "source": [
    "train_loss = cross_entropy_loss(y_bl_train, bl_model.predict(X_bl_train))\n",
    "test_loss = cross_entropy_loss(y_bl_test, bl_model.predict(X_bl_test))\n",
    "\n",
    "print('baseline train loss:', train_loss)\n",
    "print('baseline test loss:', test_loss)"
   ]
  },
  {
   "cell_type": "markdown",
   "id": "05d17956-ac9a-410a-8bcd-f70636098ec8",
   "metadata": {},
   "source": [
    "## Modelo 1\n",
    "\n",
    "A imputação dos missing values em `ind_df` foi feita utilizando o KNNImputer, um método computacionalmente bastante custoso. Em se tratando de um dataset com 1M de linhas, este processo teve uma duração média de 8 horas e 30 minutos. Por outro lado, a imputação do target em `conn_df` foi bem rápida, uma vez que a dimensionalidade do dataset foi reduzida de 31 features para 15 após aplicação do PCA."
   ]
  },
  {
   "cell_type": "code",
   "execution_count": null,
   "id": "28c98647-de3e-4053-ae13-a1044b81368c",
   "metadata": {},
   "outputs": [],
   "source": [
    "ind_df_1 = ind_df.copy(deep=True)"
   ]
  },
  {
   "cell_type": "code",
   "execution_count": null,
   "id": "3cd502a9-dcb6-43bb-ab13-fb9eafc8873f",
   "metadata": {},
   "outputs": [],
   "source": [
    "ind_df_1"
   ]
  },
  {
   "cell_type": "code",
   "execution_count": null,
   "id": "8cdb13c5-75aa-4ffe-ae5d-a84036076dbc",
   "metadata": {},
   "outputs": [],
   "source": [
    "cat_to_values = {'divorciado': 0,\n",
    "                 'casado': 1,\n",
    "                 'solteiro': 2,\n",
    "                 'viuvo': 3,\n",
    "                 'publico': 4,\n",
    "                 'particular': 5,\n",
    "                 'taxi': 6}\n",
    "\n",
    "ind_df_1_ = ind_df_1.replace(cat_to_values)\n",
    "\n",
    "scaler = MinMaxScaler()\n",
    "ind_df_1_ = scaler.fit_transform(ind_df_1_.drop('name', axis=1))"
   ]
  },
  {
   "cell_type": "code",
   "execution_count": null,
   "id": "25253625-0dcd-487f-a546-35b415bd73cb",
   "metadata": {},
   "outputs": [],
   "source": [
    "# %%time\n",
    "\n",
    "# knn_imp = KNNImputer(weights='distance')\n",
    "\n",
    "# ind_df_1_ = knn_imp.fit_transform(ind_df_1_)"
   ]
  },
  {
   "cell_type": "code",
   "execution_count": null,
   "id": "bcf50238-0bf8-4a06-b716-e43fbc53dcb5",
   "metadata": {},
   "outputs": [],
   "source": [
    "# ind_df_1_ = pd.DataFrame(scaler.inverse_transform(ind_df_1_), columns=ind_df_1_.columns)\n",
    "# ind_df_1 = pd.concat([ind_df_1['name'], ind_df_1_], axis=1)"
   ]
  },
  {
   "cell_type": "code",
   "execution_count": null,
   "id": "fc177194-3184-4cff-adf0-88aecd8eb2ea",
   "metadata": {},
   "outputs": [],
   "source": [
    "# cols = ['estado_civil', 'transporte_mais_utilizado']\n",
    "# values_to_cat = {v: k for (k, v) in cat_to_values.items()}\n",
    "# ind_df_1[cols] = ind_df_1[cols].round().replace(values_to_cat)"
   ]
  },
  {
   "cell_type": "code",
   "execution_count": null,
   "id": "ab62a7e8-6cc9-4252-8241-f87d39ffb4a6",
   "metadata": {},
   "outputs": [],
   "source": [
    "ind_df_1 = pd.read_csv('../data/processed/ind_df_filled_knn.csv')\n",
    "\n",
    "ind_df_1"
   ]
  },
  {
   "cell_type": "code",
   "execution_count": null,
   "id": "80b440f3-4d1a-4689-84c5-182135cf5e8d",
   "metadata": {},
   "outputs": [],
   "source": [
    "conn_df"
   ]
  },
  {
   "cell_type": "code",
   "execution_count": null,
   "id": "e3a4d446-c102-4bff-a14b-836efa50f5a1",
   "metadata": {},
   "outputs": [],
   "source": [
    "df_1 = pd.merge(ind_df_1.rename(columns=lambda x: x + '_V2'),\n",
    "                conn_df, \n",
    "                how='right',\n",
    "                left_on='name_V2', \n",
    "                right_on='V2')\n",
    "df_1 = pd.merge(ind_df_1.rename(columns=lambda x: x + '_V1'),\n",
    "                df_1, \n",
    "                how='right',\n",
    "                left_on='name_V1', \n",
    "                right_on='V1')\n",
    "df_1 = df_1.drop(['V1', 'V2'], axis=1)\n",
    "df_1"
   ]
  },
  {
   "cell_type": "code",
   "execution_count": null,
   "id": "f65d0e5b-5636-4229-9cab-6e291dc755eb",
   "metadata": {},
   "outputs": [],
   "source": [
    "scaler = MinMaxScaler()\n",
    "pca = PCA(n_components=0.9, random_state=42)\n",
    "\n",
    "df_1_ = pd.get_dummies(df_1.drop(cols_to_drop, axis=1), drop_first=True)\n",
    "df_1_ = pca.fit_transform(scaler.fit_transform(df_1_))\n",
    "pca_comps = [f'pc_{n+1}' for n in range(df_1_.shape[1])]\n",
    "df_1_ = pd.DataFrame(scaler.fit_transform(df_1_), columns=pca_comps)\n",
    "\n",
    "pd.Series(pca.explained_variance_ratio_, index=pca_comps).cumsum()"
   ]
  },
  {
   "cell_type": "code",
   "execution_count": null,
   "id": "479bccf1-06d7-4a6e-a7e4-7e947503f1e8",
   "metadata": {},
   "outputs": [],
   "source": [
    "df_1_ = df_1_.loc[:, :pca_comps[-1]]\n",
    "df_1_['prob_V1_V2'] = df_1['prob_V1_V2']\n",
    "\n",
    "df_1_"
   ]
  },
  {
   "cell_type": "code",
   "execution_count": null,
   "id": "4928d416-8b0b-4c9a-88c6-89017b268815",
   "metadata": {},
   "outputs": [],
   "source": [
    "df_1_.describe().T"
   ]
  },
  {
   "cell_type": "code",
   "execution_count": null,
   "id": "a05b0da3-8084-4a5d-a509-11784729490b",
   "metadata": {},
   "outputs": [],
   "source": [
    "mask = df_1_['prob_V1_V2'].isna()\n",
    "X_1_isna = df_1_.loc[mask].drop('prob_V1_V2', axis=1)\n",
    "X_1_notna = df_1_.loc[~mask].drop('prob_V1_V2', axis=1)\n",
    "y_1_notna = logit(df_1_.loc[~mask, 'prob_V1_V2'])"
   ]
  },
  {
   "cell_type": "code",
   "execution_count": null,
   "id": "00497b34-2c6c-4799-ac47-25e6527a54fb",
   "metadata": {},
   "outputs": [],
   "source": [
    "knn_reg_imp = KNeighborsRegressor(weights='distance', n_jobs=-1)\n",
    "\n",
    "knn_reg_imp.fit(X_1_notna, y_1_notna)\n",
    "\n",
    "df_1_.loc[mask, 'prob_V1_V2'] = sigmoid(knn_reg_imp.predict(X_1_isna))"
   ]
  },
  {
   "cell_type": "code",
   "execution_count": null,
   "id": "fd85ed84-012d-4f65-b77e-a91b5b71269d",
   "metadata": {},
   "outputs": [],
   "source": [
    "df_1['prob_V1_V2'] = df_1_['prob_V1_V2']\n",
    "\n",
    "X_1_, y_1 = df_1.drop(cols_to_drop, axis=1), df_1['prob_V1_V2']\n",
    "X_1 = pd.get_dummies(X_1_, drop_first=True)"
   ]
  },
  {
   "cell_type": "code",
   "execution_count": null,
   "id": "a48a21bf-ab3a-4417-a8d0-5cfc99788a81",
   "metadata": {},
   "outputs": [],
   "source": [
    "X_1_train, X_1_test, y_1_train, y_1_test = train_test_split(X_1,\n",
    "                                                            logit(y_1),\n",
    "                                                            test_size=0.4,\n",
    "                                                            random_state=42)"
   ]
  },
  {
   "cell_type": "code",
   "execution_count": null,
   "id": "1db9aa2f-69e2-4b2f-9924-ecebed843a72",
   "metadata": {},
   "outputs": [],
   "source": [
    "lr_1_model = LinearRegression().fit(X_1_train, y_1_train)"
   ]
  },
  {
   "cell_type": "code",
   "execution_count": null,
   "id": "c5f83739-c146-4a9d-bb5c-d040bd65f3bf",
   "metadata": {},
   "outputs": [],
   "source": [
    "train_loss = cross_entropy_loss(y_1_train, lr_1_model.predict(X_1_train))\n",
    "test_loss = cross_entropy_loss(y_1_test, lr_1_model.predict(X_1_test))\n",
    "\n",
    "print('lr_1 train loss:', train_loss)\n",
    "print('lr_1 test loss:', test_loss)"
   ]
  },
  {
   "cell_type": "markdown",
   "id": "05efe877-b8ce-4bcf-b78c-bca1194e6064",
   "metadata": {
    "tags": [],
    "toc-hr-collapsed": true
   },
   "source": [
    "## Modelo 2"
   ]
  },
  {
   "cell_type": "markdown",
   "id": "87509f5f-7d03-411b-b8ac-5f92b09dff7f",
   "metadata": {},
   "source": [
    "Observamos uma melhora significativa na performance do Modelo 1 em relação ao do Baseline, no entanto a um custo de mais de 8 horas de treinamento. Para a imputação dos missing values em `ind_df` no Modelo 2, tentamos então realizá-la utilizando EDA, e tentando encontrar padrões e correspondências entre os dados."
   ]
  },
  {
   "cell_type": "code",
   "execution_count": null,
   "id": "a6e25512-d9fe-4bb2-95cb-0db28d8e2dfd",
   "metadata": {},
   "outputs": [],
   "source": [
    "ind_df_2 = ind_df.copy(deep=True)"
   ]
  },
  {
   "cell_type": "code",
   "execution_count": null,
   "id": "3a286acb-b45b-453b-99dc-c64f2b75a6b8",
   "metadata": {},
   "outputs": [],
   "source": [
    "ind_df_2"
   ]
  },
  {
   "cell_type": "code",
   "execution_count": null,
   "id": "2201d702-5aff-40e0-ac31-579cdd308fad",
   "metadata": {},
   "outputs": [],
   "source": [
    "ind_df_2.isna().mean().sort_values()"
   ]
  },
  {
   "cell_type": "code",
   "execution_count": null,
   "id": "e95eb707-e469-4a5c-bb84-86fc30515c21",
   "metadata": {},
   "outputs": [],
   "source": [
    "ind_df_2.corr().round(3)"
   ]
  },
  {
   "cell_type": "markdown",
   "id": "629add6e-5ad4-48e9-8666-8e52b9a97d34",
   "metadata": {},
   "source": [
    "Uma observação interessante acima é a correlação praticamente nula entre as variáveis `pratica_esportes`, `IMC` e as demais."
   ]
  },
  {
   "cell_type": "code",
   "execution_count": null,
   "id": "ae853e71-11dd-4943-80fc-674009637d4d",
   "metadata": {},
   "outputs": [],
   "source": [
    "ind_df_2['qt_filhos'].value_counts(normalize=True)"
   ]
  },
  {
   "cell_type": "markdown",
   "id": "b5e314ab-acaf-4b1d-b9df-e93b2fa53179",
   "metadata": {},
   "source": [
    "Por conta do baixo volume de observações com `qt_filhos > 1`, adotei como estratégia bucketizar todas essas observações. Assim, o número de categorias em `qt_filhos` caiu para 3, mas cada uma com um volume representativo de observações."
   ]
  },
  {
   "cell_type": "code",
   "execution_count": null,
   "id": "524d4c74-b02a-47be-89a6-c1592bc1073f",
   "metadata": {},
   "outputs": [],
   "source": [
    "ind_df_2.loc[ind_df_2['qt_filhos'] > 1, 'qt_filhos'] = 2\n",
    "ind_df_2['qt_filhos'].value_counts(normalize=True)"
   ]
  },
  {
   "cell_type": "code",
   "execution_count": null,
   "id": "57af7da2-3c23-4814-b703-88e1d43ca7ab",
   "metadata": {},
   "outputs": [],
   "source": [
    "ind_df_2['estuda'].value_counts(normalize=True)"
   ]
  },
  {
   "cell_type": "code",
   "execution_count": null,
   "id": "4a763215-218b-4580-b97c-d1af2908deb8",
   "metadata": {},
   "outputs": [],
   "source": [
    "ind_df_2['trabalha'].value_counts(normalize=True)"
   ]
  },
  {
   "cell_type": "markdown",
   "id": "ac67a536-0b15-4fda-8016-25b4f64dd94d",
   "metadata": {},
   "source": [
    "### EDA"
   ]
  },
  {
   "cell_type": "markdown",
   "id": "a89b5a64-d382-4420-a0aa-efa462a2cca1",
   "metadata": {},
   "source": [
    "#### `qt_filhos`, `estuda` e `trabalha`"
   ]
  },
  {
   "cell_type": "code",
   "execution_count": null,
   "id": "8f0fd7b0-6ff7-4042-9dfd-b784e0b64339",
   "metadata": {},
   "outputs": [],
   "source": [
    "fig, ax = plt.subplots(1, 3, figsize=(16, 4), sharey=True)\n",
    "sns.kdeplot(x='idade', hue='qt_filhos', data=ind_df_2, ax=ax[0])\n",
    "sns.kdeplot(x='idade', hue='estuda', data=ind_df_2, ax=ax[1])\n",
    "sns.kdeplot(x='idade', hue='trabalha', data=ind_df_2, ax=ax[2]);"
   ]
  },
  {
   "cell_type": "markdown",
   "id": "9c5b2ea3-6dde-454a-a41d-6e8ac523eae4",
   "metadata": {},
   "source": [
    "Nos gráficos acima, vemos um padrão peculiar quando a idade é cerca de 16 anos, que pode ser explicado pelo fato de pessoas com 16 anos ou menos tendem a não ter filhos, estudarem e não trabalharem. Por conta disso, resolvi segmentar `idade` em um número suficiente de quantis que pudesse isolar este grupo de pessoas com menos de 16 anos. Como veremos abaixo, este segmento de pessoas, de fato, apresenta um comportamento diferente dos demais no que diz respeito às variáveis `qt_filhos`, `estuda` e `trabalha`. E, curiosamente, pessoas com 16 anos ou mais apresentam, em média, perfis de comportamento praticamente idênticos em relação a estas mesmas variáveis."
   ]
  },
  {
   "cell_type": "code",
   "execution_count": null,
   "id": "3153f824-b781-4765-877b-8da52b35ea45",
   "metadata": {},
   "outputs": [],
   "source": [
    "ind_df_2['idade_quantis'] = pd.qcut(ind_df_2['idade'], q=15, labels=range(1, 16))\n",
    "\n",
    "filhos_df = (ind_df_2\n",
    "             .groupby('idade_quantis')['qt_filhos']\n",
    "             .value_counts(normalize=True)\n",
    "             .rename('pct')\n",
    "             .reset_index())\n",
    "estuda_df = (ind_df_2\n",
    "             .groupby('idade_quantis')['estuda']\n",
    "             .value_counts(normalize=True)\n",
    "             .rename('pct')\n",
    "             .reset_index())\n",
    "trabalha_df = (ind_df_2\n",
    "               .groupby('idade_quantis')['trabalha']\n",
    "               .value_counts(normalize=True)\n",
    "               .rename('pct')\n",
    "               .reset_index())\n",
    "\n",
    "fig, ax = plt.subplots(1, 3, figsize=(16, 4), sharey=True)\n",
    "sns.barplot(x='idade_quantis', y='pct', hue='qt_filhos', data=filhos_df, ax=ax[0])\n",
    "sns.barplot(x='idade_quantis', y='pct', hue='estuda', data=estuda_df, ax=ax[1])\n",
    "ax[1].set_ylabel('')\n",
    "sns.barplot(x='idade_quantis', y='pct', hue='trabalha', data=trabalha_df, ax=ax[2])\n",
    "ax[2].set_ylabel('');"
   ]
  },
  {
   "cell_type": "code",
   "execution_count": null,
   "id": "005ba8b8-1aa9-4e11-865c-04322c13f920",
   "metadata": {},
   "outputs": [],
   "source": [
    "ind_df_2['idade_cat'] = '16_mais'\n",
    "ind_df_2.loc[ind_df_2['idade_quantis'] == 1, 'idade_cat'] = 'ate_16'\n",
    "ind_df_2['idade_cat'] = pd.Categorical(ind_df_2['idade_cat'],\n",
    "                                       categories=['ate_16', '16_mais'],\n",
    "                                       ordered=True)\n",
    "\n",
    "ind_df_2.drop('idade_quantis', axis=1, inplace=True)\n",
    "\n",
    "ind_df_2.loc[ind_df_2['idade_cat'] == 'ate_16', 'idade'].describe().T"
   ]
  },
  {
   "cell_type": "code",
   "execution_count": null,
   "id": "635e703c-81eb-4a90-8395-603f2190924d",
   "metadata": {},
   "outputs": [],
   "source": [
    "fig, ax = plt.subplots(1, 3, figsize=(16, 4), sharey=True)\n",
    "\n",
    "sns.barplot(x='idade_cat', y='idade', data=ind_df_2, hue='qt_filhos', ax=ax[0])\n",
    "sns.barplot(x='idade_cat', y='idade', data=ind_df_2, hue='estuda', ax=ax[1])\n",
    "ax[1].set_ylabel('')\n",
    "sns.barplot(x='idade_cat', y='idade', data=ind_df_2, hue='trabalha', ax=ax[2])\n",
    "ax[2].set_ylabel('');"
   ]
  },
  {
   "cell_type": "code",
   "execution_count": null,
   "id": "193faafa-786e-451f-af40-5571d5f2fbc4",
   "metadata": {},
   "outputs": [],
   "source": [
    "ind_df_2_ = ind_df_2.query('idade_cat == \"16_mais\"').copy(deep=True)"
   ]
  },
  {
   "cell_type": "code",
   "execution_count": null,
   "id": "486e6c3a-b640-45d9-8868-0b5d5780286e",
   "metadata": {},
   "outputs": [],
   "source": [
    "ind_df_2_.corr().round(3)"
   ]
  },
  {
   "cell_type": "markdown",
   "id": "e3d70e30-ff29-4d43-98de-0906a602ac78",
   "metadata": {},
   "source": [
    "Uma observação interessante acima é a correlação praticamente nula entre todas as variáveis, uma vez que consideramos apenas pessoas com 16 anos ou mais. E como veremos abaixo, o mesmo fenômeno ocorre em relação às variáveis categóricas `estado_civil` e `transporte_mais_utilizado`."
   ]
  },
  {
   "cell_type": "code",
   "execution_count": null,
   "id": "cc50cbf5-f30e-4770-a105-50f4e37d2748",
   "metadata": {},
   "outputs": [],
   "source": [
    "fig, ax = plt.subplots(3, 2, figsize=(9, 9), sharex=True, sharey=True)\n",
    "fig.tight_layout()\n",
    "\n",
    "cols_1 = ['qt_filhos', 'estuda', 'trabalha']\n",
    "cols_2 = ['estado_civil', 'transporte_mais_utilizado']\n",
    "for i, c1 in enumerate(cols_1):\n",
    "    for j, c2 in enumerate(cols_2):\n",
    "        tmp = (ind_df_2_\n",
    "               .groupby(c2)[c1]\n",
    "               .value_counts(normalize=True)\n",
    "               .rename('pct')\n",
    "               .mul(100)\n",
    "               .reset_index())\n",
    "        sns.barplot(x=c2, y='pct', hue=c1, data=tmp, ax=ax[i%3, j%2])\n",
    "        if (c1 == 'qt_filhos') or (c1 == 'estuda'):\n",
    "            ax[i%3, j%2].set_xlabel('')\n",
    "        if c2 == 'estado_civil':\n",
    "            ax[i%3, j%2].get_legend().remove()\n",
    "        if c2 == 'transporte_mais_utilizado':\n",
    "            ax[i%3, j%2].set_ylabel('')\n",
    "            ax[i%3, j%2].legend(bbox_to_anchor=(1.05, 1), loc=2, borderaxespad=0, title=c1)"
   ]
  },
  {
   "cell_type": "markdown",
   "id": "0385b760-38a9-4eb9-9849-940a0540d413",
   "metadata": {},
   "source": [
    "Abaixo imputamos os missing values em `qt_filhos`, `estuda` e `trabalha` de acordo com as seguintes regras:\n",
    "1. `idade < 16` $\\leftarrow$ 0;\n",
    "2. caso contrário $\\leftarrow$ valor esperado das observações em que `idade > 15`;\n",
    "3. no caso especial da variável `trabalha`, temos ainda uma informação adicional vinda da variável `grau` em `conn_df` que nos permite imputar com certeza missing values de observações em que `grau = trabalho`."
   ]
  },
  {
   "cell_type": "code",
   "execution_count": null,
   "id": "750f04c3-4a3b-467b-b96d-556337b4387b",
   "metadata": {},
   "outputs": [],
   "source": [
    "cols = ['qt_filhos', 'estuda', 'trabalha']\n",
    "for c in cols:\n",
    "    pct_df = ind_df_2_[c].value_counts(normalize=True)\n",
    "    mask_1, mask_2 = ind_df_2[c].isna(), (ind_df_2['idade_cat'] == 'ate_16')\n",
    "    if c == 'qt_filhos':\n",
    "        ind_df_2.loc[mask_1 & mask_2, c] = 0\n",
    "    elif c == 'estuda':\n",
    "        ind_df_2.loc[mask_1 & mask_2, c] = 1\n",
    "    else:\n",
    "        names = np.append(conn_df.loc[conn_df['grau'] == 'trabalho', 'V1'].unique(),\n",
    "                          conn_df.loc[conn_df['grau'] == 'trabalho', 'V2'].unique())\n",
    "        ind_df_2.loc[mask_1 & ind_df_2.index.isin(names), c] = 1\n",
    "        ind_df_2.loc[mask_1 & mask_2, c] = 0\n",
    "    ind_df_2[c].fillna(sum(pct_df.index*pct_df.values), inplace=True)"
   ]
  },
  {
   "cell_type": "markdown",
   "id": "d848ddf4-0772-4c8d-9d8c-ebaba3823f2d",
   "metadata": {},
   "source": [
    "#### `transporte_mais_utilizado`"
   ]
  },
  {
   "cell_type": "code",
   "execution_count": null,
   "id": "60f6f9cd-5dc6-4b31-aaf8-8c7394db940d",
   "metadata": {},
   "outputs": [],
   "source": [
    "fig, ax = plt.subplots(3, 3, figsize=(13, 11))\n",
    "fig.tight_layout(h_pad=3, w_pad=4)\n",
    "\n",
    "sns.kdeplot(x='idade', hue='transporte_mais_utilizado', data=ind_df_2, ax=ax[0, 0])\n",
    "\n",
    "cols = ['idade_cat', 'estado_civil', 'qt_filhos', 'estuda', 'trabalha', 'pratica_esportes']\n",
    "for n, c in enumerate(cols, start=1):\n",
    "    tmp = (ind_df_2\n",
    "           .groupby(c)['transporte_mais_utilizado']\n",
    "           .value_counts(normalize=True)\n",
    "           .rename('pct')\n",
    "           .mul(100)\n",
    "           .reset_index())\n",
    "    g = sns.barplot(x=c, y='pct', hue='transporte_mais_utilizado', data=tmp, ax=ax[n//3, n%3])\n",
    "    if c in ['qt_filhos', 'estuda', 'trabalha']:\n",
    "        g.set_xticklabels(labels=['{:.1f}'.format(x) for x in sorted(tmp[c].unique())])\n",
    "    ax[n//3, n%3].get_legend().remove()\n",
    "\n",
    "sns.kdeplot(x='IMC', hue='transporte_mais_utilizado', data=ind_df_2, ax=ax[2, 1])\n",
    "\n",
    "fig.delaxes(ax[2, 2]);"
   ]
  },
  {
   "cell_type": "markdown",
   "id": "3d12713c-1c37-40ad-b7a9-f51c117e1212",
   "metadata": {},
   "source": [
    "Como vemos acima, as demais variáveis não nos dão pistas de uma boa forma de imputar missing values em `transporte utilizado`. Portanto, dado o volume significativo de missing values nesta variável, equivalente à categoria `taxi`, eu optei por criar uma nova categoria apelidada de `outros` pra preencher estes valores."
   ]
  },
  {
   "cell_type": "code",
   "execution_count": null,
   "id": "3c47816b-e567-40b6-afd8-83446b847cf7",
   "metadata": {},
   "outputs": [],
   "source": [
    "transp_pct_df = ind_df_2['transporte_mais_utilizado'].value_counts(normalize=True)\n",
    "transp_pct_df"
   ]
  },
  {
   "cell_type": "code",
   "execution_count": null,
   "id": "8b6af0e8-9412-405d-ac91-751b45c91df9",
   "metadata": {},
   "outputs": [],
   "source": [
    "ind_df_2['transporte_mais_utilizado'].fillna('outros', inplace=True)"
   ]
  },
  {
   "cell_type": "markdown",
   "id": "4a1bf666-cbb9-4be7-a323-f5d4deeed8b6",
   "metadata": {},
   "source": [
    "#### `estado_civil`"
   ]
  },
  {
   "cell_type": "code",
   "execution_count": null,
   "id": "f41183e3-7f90-4729-b1fb-ce6822a619e7",
   "metadata": {},
   "outputs": [],
   "source": [
    "fig, ax = plt.subplots(3, 3, figsize=(13, 11))\n",
    "fig.tight_layout(h_pad=3, w_pad=4)\n",
    "\n",
    "tmp = (ind_df_2\n",
    "       .groupby('idade_cat')['estado_civil']\n",
    "       .value_counts(normalize=True)\n",
    "       .rename('pct')\n",
    "       .mul(100)\n",
    "       .reset_index())\n",
    "\n",
    "sns.kdeplot(x='idade', hue='estado_civil', data=ind_df_2, ax=ax[0, 0])\n",
    "sns.barplot(x='idade_cat', y='pct', hue='estado_civil', data=tmp, ax=ax[0, 1])\n",
    "\n",
    "cols = ['qt_filhos', 'estuda', 'trabalha', 'pratica_esportes', 'transporte_mais_utilizado']\n",
    "for n, c in enumerate(cols, start=2):\n",
    "    tmp = (ind_df_2_\n",
    "           .groupby(c)['estado_civil']\n",
    "           .value_counts(normalize=True)\n",
    "           .rename('pct')\n",
    "           .mul(100)\n",
    "           .reset_index())\n",
    "    g = sns.barplot(x=c, y='pct', hue='estado_civil', data=tmp, ax=ax[n//3, n%3])\n",
    "    if c in ['qt_filhos', 'estuda', 'trabalha']:\n",
    "        g.set_xticklabels(labels=['{:.1f}'.format(x) for x in sorted(tmp[c].unique())])\n",
    "    ax[n//3, n%3].get_legend().remove()\n",
    "\n",
    "sns.kdeplot(x='IMC', hue='estado_civil', data=ind_df_2_, ax=ax[2, 1])\n",
    "\n",
    "fig.delaxes(ax[2, 2]);"
   ]
  },
  {
   "cell_type": "markdown",
   "id": "f0fda2e9-c83e-413b-9143-6890fe6fcd30",
   "metadata": {},
   "source": [
    "Aqui, notamos fenômemo similar ao observado em `qt_filhos`, `estuda` e `trabalha`, no qual pessoas com menos de 16 anos são mais propensas a terem `estado_civil = solteiro`. E mais uma vez, considerando apenas observações com `idade` superior ou igual a 16 anos, observamos a ausência de correlação entre esta e as demais variáveis. Nesses casos, assim como já foi feito anteriormente, os missing values foram imputados com uma nova categoria apelidada de `outros`, dado o volume significativo destes."
   ]
  },
  {
   "cell_type": "code",
   "execution_count": null,
   "id": "5b06fb59-1d8d-4d38-b27f-3e1219da9b9e",
   "metadata": {},
   "outputs": [],
   "source": [
    "estcv_pct_df = ind_df_2_['estado_civil'].value_counts(normalize=True)\n",
    "estcv_pct_df"
   ]
  },
  {
   "cell_type": "code",
   "execution_count": null,
   "id": "7bbd191c-a754-486d-8f6f-5880309cf51b",
   "metadata": {},
   "outputs": [],
   "source": [
    "mask = ind_df_2['estado_civil'].isna()\n",
    "ind_df_2.loc[mask & (ind_df_2['idade_cat'] == 'ate_16'), 'estado_civil'] = 'solteiro'\n",
    "ind_df_2['estado_civil'].fillna('outros', inplace=True)"
   ]
  },
  {
   "cell_type": "markdown",
   "id": "38b231ed-c73c-47ac-952d-f33185afcd6d",
   "metadata": {},
   "source": [
    "#### `pratica_esportes`"
   ]
  },
  {
   "cell_type": "code",
   "execution_count": null,
   "id": "d0b86391-b5cb-4e22-87a5-3b14add109a4",
   "metadata": {},
   "outputs": [],
   "source": [
    "fig, ax = plt.subplots(3, 3, figsize=(13, 11))\n",
    "fig.tight_layout(h_pad=3, w_pad=4)\n",
    "\n",
    "sns.kdeplot(x='idade', hue='pratica_esportes', data=ind_df_2, ax=ax[0, 0])\n",
    "\n",
    "cols = ['idade_cat', 'estado_civil', 'qt_filhos', 'estuda', 'trabalha', 'transporte_mais_utilizado']\n",
    "for n, c in enumerate(cols, start=1):\n",
    "    tmp = (ind_df_2\n",
    "           .groupby(c)['pratica_esportes']\n",
    "           .value_counts(normalize=True)\n",
    "           .rename('pct')\n",
    "           .mul(100)\n",
    "           .reset_index())\n",
    "    g = sns.barplot(x=c, y='pct', hue='pratica_esportes', data=tmp, ax=ax[n//3, n%3])\n",
    "    if c in ['qt_filhos', 'estuda', 'trabalha']:\n",
    "        g.set_xticklabels(labels=['{:.1f}'.format(x) for x in sorted(tmp[c].unique())])\n",
    "    ax[n//3, n%3].get_legend().remove()\n",
    "\n",
    "sns.kdeplot(x='IMC', hue='pratica_esportes', data=ind_df_2, ax=ax[2, 1])\n",
    "\n",
    "fig.delaxes(ax[2, 2]);"
   ]
  },
  {
   "cell_type": "markdown",
   "id": "6f81a7d4-7ed4-4cc9-8bd3-cf91a46c615e",
   "metadata": {},
   "source": [
    "Caso similar ao de `tranporte_utilizado`, e com missing values imputados utilizando-se o valor esperado da variável."
   ]
  },
  {
   "cell_type": "code",
   "execution_count": null,
   "id": "9c7a2888-ea64-4822-bfc6-da8f2903e5d3",
   "metadata": {},
   "outputs": [],
   "source": [
    "esportes_pct_df = ind_df_2_['pratica_esportes'].value_counts(normalize=True)\n",
    "esportes_pct_df"
   ]
  },
  {
   "cell_type": "code",
   "execution_count": null,
   "id": "62478f62-9c8a-4628-80a8-d9373d07760f",
   "metadata": {},
   "outputs": [],
   "source": [
    "mask = ind_df_2['pratica_esportes'].isna()\n",
    "ind_df_2['pratica_esportes'].fillna(sum(esportes_pct_df.index*esportes_pct_df.values), inplace=True)"
   ]
  },
  {
   "cell_type": "markdown",
   "id": "f61b5ccf-ae4d-461d-92ae-2ca853d3d48a",
   "metadata": {},
   "source": [
    "#### `IMC` e `idade`"
   ]
  },
  {
   "cell_type": "markdown",
   "id": "a90705a6-3a9e-484d-8de2-6ef96216f76c",
   "metadata": {},
   "source": [
    "Para estas variáveis numéricas e contínuas, a estratégia de imputação utilizada foi pela mediana."
   ]
  },
  {
   "cell_type": "code",
   "execution_count": null,
   "id": "7c726d6a-87b2-4fee-8231-cbd4589f4c3c",
   "metadata": {},
   "outputs": [],
   "source": [
    "# ind_df_2['IMC'].fillna(ind_df_2['IMC'].median(skipna=True), inplace=True)\n",
    "# ind_df_2['idade'].fillna(ind_df_2['idade'].median(skipna=True), inplace=True)\n",
    "\n",
    "# ind_df_2.drop('idade_ate16', axis=1, inplace=True)"
   ]
  },
  {
   "cell_type": "code",
   "execution_count": null,
   "id": "b102c209-43bf-41c2-a135-fe5f3af5d847",
   "metadata": {},
   "outputs": [],
   "source": [
    "def fit_distribution(data, d):\n",
    "    try:\n",
    "        dist = getattr(stats, d)\n",
    "    except:\n",
    "        return 0\n",
    "    param = dist.fit(data)\n",
    "    ks_res = stats.kstest(data, d, args=param)\n",
    "    return param, ks_res"
   ]
  },
  {
   "cell_type": "code",
   "execution_count": null,
   "id": "ef077696-c657-4ca7-83cd-187ee3d03892",
   "metadata": {
    "tags": []
   },
   "outputs": [],
   "source": [
    "dist_discrete = [d for d in dir(stats) if isinstance(getattr(stats, d), stats.rv_discrete)]\n",
    "\n",
    "with Pool() as p:\n",
    "    res = p.starmap(fit_distribution, [(ind_df_2['idade'], dist_discrete)])"
   ]
  },
  {
   "cell_type": "code",
   "execution_count": null,
   "id": "b26a6b52-67a8-4709-a301-5e6fbb4ba3db",
   "metadata": {},
   "outputs": [],
   "source": [
    "results.sort(key=lambda x:float(x[2]), reverse=True)\n",
    "for j in results[:10]:\n",
    "    print(\"{}: statistic={}, pvalue={}\".format(j[0], j[1], j[2]))"
   ]
  },
  {
   "cell_type": "code",
   "execution_count": null,
   "id": "ad21e4f5-64fa-4d73-ab29-14c68f45b318",
   "metadata": {},
   "outputs": [],
   "source": [
    "dist_continuous = [d for d in dir(stats) if isinstance(getattr(stats, d), stats.rv_continuous)]\n",
    "with Pool() as p:\n",
    "    res = p.starmap(fit_distribution, [(ind_df_2['IMC'], dist_continuous)])"
   ]
  },
  {
   "cell_type": "code",
   "execution_count": null,
   "id": "b299396b-40b7-4d5f-9af2-332cad9fff96",
   "metadata": {},
   "outputs": [],
   "source": [
    "results.sort(key=lambda x:float(x[2]), reverse=True)\n",
    "for j in results[:10]:\n",
    "    print(\"{}: statistic={}, pvalue={}\".format(j[0], j[1], j[2]))"
   ]
  },
  {
   "cell_type": "markdown",
   "id": "5011c1a4-873b-4ea5-a682-f84a78942148",
   "metadata": {},
   "source": [
    "### Treinamento"
   ]
  },
  {
   "cell_type": "markdown",
   "id": "53f3eb03-3316-4888-ba74-20d165dfff1e",
   "metadata": {},
   "source": [
    "Uma vez com `ind_df` completo, o combinamos com `conn_df` e procedemos com a redução da dimensionalidade com o método PCA, reduzindo o número de features, agora, de 31 para 18, seguido da imputação dos missing values no target com o KNN Regressor, como discutido anteriormente. Desta vez, no entanto, diferentemente do que ocorreu com o Modelo 1, o processo de imputação nesta segunda etapa levou cerca de 2 horas e 30 minutos. Ainda asssim, mesmo considerando o tempo gasto com toda a parte de EDA para completar `ind_df`, a estratégia de imputação utilizada no Modelo 2 teve uma duração total consideravelmente menor que aquela utilizada no Modelo 1, e como veremos abaixo, obtendo ainda uma taxa de performance apenas ligeiramente inferior."
   ]
  },
  {
   "cell_type": "code",
   "execution_count": null,
   "id": "241b4881-ad1c-4e09-87c5-187312e5bed1",
   "metadata": {},
   "outputs": [],
   "source": [
    "df_2 = pd.merge(ind_df_2.rename(columns=lambda x: x + '_V2'),\n",
    "                conn_df, \n",
    "                how='right',\n",
    "                left_on='name_V2', \n",
    "                right_on='V2')\n",
    "df_2 = pd.merge(ind_df_2.rename(columns=lambda x: x + '_V1'),\n",
    "                df_2, \n",
    "                how='right',\n",
    "                left_on='name_V1', \n",
    "                right_on='V1')\n",
    "df_2 = df_2.drop(['V1', 'V2'], axis=1)\n",
    "df_2"
   ]
  },
  {
   "cell_type": "code",
   "execution_count": null,
   "id": "ffd21b68-19d3-4346-bd77-d7489fa0af99",
   "metadata": {},
   "outputs": [],
   "source": [
    "scaler = MinMaxScaler()\n",
    "pca = PCA(n_components=0.9, random_state=42)\n",
    "\n",
    "df_2_ = pd.get_dummies(df_2.drop(cols_to_drop, axis=1), drop_first=True)\n",
    "df_2_ = pca.fit_transform(scaler.fit_transform(df_2_))\n",
    "pca_comps = [f'pc_{n+1}' for n in range(df_2_.shape[1])]\n",
    "df_2_ = pd.DataFrame(scaler.fit_transform(df_2_), columns=pca_comps)\n",
    "\n",
    "pd.Series(pca.explained_variance_ratio_, index=pca_comps).cumsum()"
   ]
  },
  {
   "cell_type": "code",
   "execution_count": null,
   "id": "4d96bfc8-08ed-4d91-ac62-b63be7cfa438",
   "metadata": {},
   "outputs": [],
   "source": [
    "df_2_ = df_2_.loc[:, :pca_comps[-1]]\n",
    "df_2_['prob_V1_V2'] = df_2['prob_V1_V2']\n",
    "\n",
    "df_2_"
   ]
  },
  {
   "cell_type": "code",
   "execution_count": null,
   "id": "a30f16db-386a-48a9-9810-40ae09f1d145",
   "metadata": {},
   "outputs": [],
   "source": [
    "df_2_.describe().T"
   ]
  },
  {
   "cell_type": "code",
   "execution_count": null,
   "id": "06eb3cc7-5e46-4b5d-b8bb-b42a3f877590",
   "metadata": {},
   "outputs": [],
   "source": [
    "mask = df_2_['prob_V1_V2'].isna()\n",
    "X_2_isna = df_2_.loc[mask].drop('prob_V1_V2', axis=1)\n",
    "X_2_notna = df_2_.loc[~mask].drop('prob_V1_V2', axis=1)\n",
    "y_2_notna = logit(df_2_.loc[~mask, 'prob_V1_V2'])"
   ]
  },
  {
   "cell_type": "code",
   "execution_count": null,
   "id": "dbc94801-81f0-44bc-9313-ea9c80c760bc",
   "metadata": {},
   "outputs": [],
   "source": [
    "# %%time\n",
    "\n",
    "# knn_reg_imp = KNeighborsRegressor(weights='distance', n_jobs=-1)\n",
    "\n",
    "# knn_reg_imp.fit(X_2_notna, y_2_notna)\n",
    "\n",
    "# df_2_.loc[mask, 'prob_V1_V2'] = sigmoid(knn_reg_imp.predict(X_2_isna))"
   ]
  },
  {
   "cell_type": "code",
   "execution_count": null,
   "id": "a1e2fbb5-41e8-42c8-bc46-c1a65b096af7",
   "metadata": {},
   "outputs": [],
   "source": [
    "# df_2['prob_V1_V2'] = df_2_['prob_V1_V2']\n",
    "df_2['prob_V1_V2'] = pd.read_csv('../data/processed/df_2_prob_V1_V2_filled_knn.csv')\n",
    "\n",
    "X_2_, y_2 = df_2.drop(cols_to_drop, axis=1), df_2['prob_V1_V2']\n",
    "X_2 = pd.get_dummies(X_2_, drop_first=True)"
   ]
  },
  {
   "cell_type": "code",
   "execution_count": null,
   "id": "2645251b-9dfa-4ca5-9e14-afce0b82fbb7",
   "metadata": {},
   "outputs": [],
   "source": [
    "X_2_train, X_2_test, y_2_train, y_2_test = train_test_split(X_2,\n",
    "                                                            logit(y_2),\n",
    "                                                            test_size=0.4,\n",
    "                                                            random_state=42)\n",
    "\n",
    "lr_2_model = LinearRegression().fit(X_2_train, y_2_train)"
   ]
  },
  {
   "cell_type": "code",
   "execution_count": null,
   "id": "99c94ccc-e810-4411-8547-d057f0cde945",
   "metadata": {},
   "outputs": [],
   "source": [
    "train_loss = cross_entropy_loss(y_2_train, lr_2_model.predict(X_2_train))\n",
    "test_loss = cross_entropy_loss(y_2_test, lr_2_model.predict(X_2_test))\n",
    "\n",
    "print('lr_2 train loss:', train_loss)\n",
    "print('lr_2 test loss:', test_loss)"
   ]
  },
  {
   "cell_type": "markdown",
   "id": "469569e4-50e3-4f48-984b-1e873111980d",
   "metadata": {},
   "source": [
    "## LightGBM Regressor"
   ]
  },
  {
   "cell_type": "markdown",
   "id": "beef2a26-c0e2-4143-a3a9-217bd22a71e2",
   "metadata": {},
   "source": [
    "Esta estratégia, dentre todas as utilizadas, é certamente a mais eficiente, pois não há necessidade de se preocupar em imputar os missing values. E mais do que isso, é um modelo que utiliza o fato de que existem missing values como informação para o treinamento e otimização da performance. Entretanto, trata-se de um modelo altamente complexo e de difícil interpretação."
   ]
  },
  {
   "cell_type": "code",
   "execution_count": null,
   "id": "5297a59c-ff03-4a31-af6f-c2f04806604d",
   "metadata": {},
   "outputs": [],
   "source": [
    "df_3 = pd.get_dummies(df_raw.drop(['name_V1', 'name_V2'], axis=1), drop_first=True)\n",
    "X_3, y_3 = df_3.drop('prob_V1_V2', axis=1), df_3['prob_V1_V2']\n",
    "X_3_train, X_3_test, y_3_train, y_3_test = train_test_split(X_3,\n",
    "                                                            logit(y_3),\n",
    "                                                            test_size=0.4,\n",
    "                                                            random_state=42)"
   ]
  },
  {
   "cell_type": "code",
   "execution_count": null,
   "id": "27255111-28c2-41ac-8676-161f2ac9831b",
   "metadata": {},
   "outputs": [],
   "source": [
    "lgbm_reg = lgb.LGBMRegressor(random_state=42)\n",
    "lgbm_reg.fit(X_3_train, y_3_train);"
   ]
  },
  {
   "cell_type": "code",
   "execution_count": null,
   "id": "bbe97f1e-54e9-4331-a834-51142cadbd80",
   "metadata": {},
   "outputs": [],
   "source": [
    "train_loss = cross_entropy_loss(y_3_train, lgbm_reg.predict(X_3_train))\n",
    "test_loss = cross_entropy_loss(y_3_test, lgbm_reg.predict(X_3_test))\n",
    "\n",
    "print('lgbr train loss:', train_loss)\n",
    "print('lgbr test loss:', test_loss)"
   ]
  },
  {
   "cell_type": "markdown",
   "id": "30871c88-8809-43a0-938d-c27dec60c136",
   "metadata": {},
   "source": [
    "# Estimando a taxa de contaminação para o resto da população\n",
    "\n",
    "Feitas todas as considerações acima, optamos pela utilização do Modelo 2 por se tratar do melhor meio-termo quando ponderados os fatores: interpretabilidade, custo de modelagem e performance."
   ]
  },
  {
   "cell_type": "code",
   "execution_count": null,
   "id": "f6558f50-b728-4f42-9492-505b418adda6",
   "metadata": {},
   "outputs": [],
   "source": [
    "df_half = df_2.copy(deep=True)"
   ]
  },
  {
   "cell_type": "code",
   "execution_count": null,
   "id": "f5fd1c22-9bc4-465a-9b0b-ef8eaff7d707",
   "metadata": {},
   "outputs": [],
   "source": [
    "df_half"
   ]
  },
  {
   "cell_type": "code",
   "execution_count": null,
   "id": "63b17226-a8a3-44d7-8c51-efbbd9ce1764",
   "metadata": {},
   "outputs": [],
   "source": [
    "rev_cols = ['V2', 'V1', 'grau', 'proximidade']\n",
    "rev_conn_df = conn_df[rev_cols].copy(deep=True).rename(columns={'V1': 'V2', 'V2': 'V1'})\n",
    "rev_conn_df['prob_V1_V2'] = np.nan"
   ]
  },
  {
   "cell_type": "code",
   "execution_count": null,
   "id": "a0327321-9b39-4aa9-bf28-c9ac53c23fbd",
   "metadata": {},
   "outputs": [],
   "source": [
    "df_other_half = pd.merge(ind_df_2.rename(columns=lambda x: x + '_V2'),\n",
    "                         rev_conn_df, \n",
    "                         how='right',\n",
    "                         left_on='name_V2', \n",
    "                         right_on='V2')\n",
    "df_other_half = pd.merge(ind_df_2.rename(columns=lambda x: x + '_V1'),\n",
    "                         df_other_half, \n",
    "                         how='right',\n",
    "                         left_on='name_V1', \n",
    "                         right_on='V1')\n",
    "df_other_half = df_other_half.drop(['V1', 'V2'], axis=1)\n",
    "\n",
    "df_other_half"
   ]
  },
  {
   "cell_type": "code",
   "execution_count": null,
   "id": "ad29bcb9-3a34-4c19-a810-45fe28de6341",
   "metadata": {},
   "outputs": [],
   "source": [
    "X_other_half_ = df_other_half.drop(cols_to_drop, axis=1)\n",
    "X_other_half = pd.get_dummies(X_other_half_, drop_first=True)"
   ]
  },
  {
   "cell_type": "code",
   "execution_count": null,
   "id": "b9327bfb-052a-468c-9357-9b8337fa7014",
   "metadata": {},
   "outputs": [],
   "source": [
    "# lr_model = joblib.load('../data/processed/lr_2_model.pkl')\n",
    "lr_model = lr_2_model"
   ]
  },
  {
   "cell_type": "code",
   "execution_count": null,
   "id": "14b84fa6-de63-420a-8216-c19bac4c1fd1",
   "metadata": {},
   "outputs": [],
   "source": [
    "df_other_half['prob_V1_V2'] = sigmoid(lr_model.predict(X_other_half))"
   ]
  },
  {
   "cell_type": "code",
   "execution_count": null,
   "id": "632cc4b5-09be-4379-91e7-83701597c48d",
   "metadata": {},
   "outputs": [],
   "source": [
    "df_other_half"
   ]
  },
  {
   "cell_type": "code",
   "execution_count": null,
   "id": "d1d3849a-74f8-476f-8773-a301aa749c28",
   "metadata": {},
   "outputs": [],
   "source": [
    "df = df_half.append(df_other_half, ignore_index=True).drop(['name_V1', 'name_V2'], axis=1)\n",
    "\n",
    "cols = ['idade_V1', 'qt_filhos_V1', 'estuda_V1', 'trabalha_V1', 'pratica_esportes_V1',\n",
    "        'idade_V2', 'qt_filhos_V2', 'estuda_V2', 'trabalha_V2', 'pratica_esportes_V2']\n",
    "\n",
    "df[cols] = df[cols].round()\n",
    "\n",
    "df"
   ]
  },
  {
   "cell_type": "markdown",
   "id": "c58ed144-efe1-4a6d-b38f-9f775c9126f7",
   "metadata": {
    "tags": []
   },
   "source": [
    "## Importância das features"
   ]
  },
  {
   "cell_type": "code",
   "execution_count": null,
   "id": "511bf83a-d3a0-4aea-b6d6-203f59c4ff77",
   "metadata": {},
   "outputs": [],
   "source": [
    "scaler = StandardScaler()\n",
    "\n",
    "xentropy_loss = make_scorer(cross_entropy_loss, greater_is_better=False)\n",
    "\n",
    "feats_imp = permutation_importance(lr_model,\n",
    "                                   scaler.fit_transform(X_2_train),\n",
    "                                   y_2_train,\n",
    "                                   scoring=xentropy_loss,\n",
    "                                   n_jobs=-1,\n",
    "                                   random_state=42)"
   ]
  },
  {
   "cell_type": "code",
   "execution_count": null,
   "id": "46e46fae-a0aa-4fcd-97bb-adb15b7c4490",
   "metadata": {},
   "outputs": [],
   "source": [
    "coefs_imp = (pd.\n",
    "             DataFrame({'coefs': X_2_train.columns,\n",
    "                        'avg_imp': feats_imp.importances_mean,\n",
    "                        'std_imp': feats_imp.importances_std})\n",
    "             .sort_values('avg_imp', ascending=False, ignore_index=True))\n",
    "\n",
    "coefs_imp"
   ]
  },
  {
   "cell_type": "markdown",
   "id": "129c4cd4-096b-4c38-9dfd-0d19bb608e23",
   "metadata": {},
   "source": [
    "## EDA"
   ]
  },
  {
   "cell_type": "code",
   "execution_count": null,
   "id": "28cf1d76-8fc4-4d83-8d65-9dd085c98407",
   "metadata": {},
   "outputs": [],
   "source": [
    "prob_mean = df['prob_V1_V2'].mean()\n",
    "prob_std = df['prob_V1_V2'].std()"
   ]
  },
  {
   "cell_type": "code",
   "execution_count": null,
   "id": "8986a31b-5228-44c0-ab71-8567628fdb97",
   "metadata": {},
   "outputs": [],
   "source": [
    "sns.histplot(x='prob_V1_V2', data=df)\n",
    "plt.axvline(prob_mean - prob_std, color='black', linestyle=':')\n",
    "plt.axvline(prob_mean + prob_std, color='black', linestyle=':');"
   ]
  },
  {
   "cell_type": "code",
   "execution_count": null,
   "id": "151ae2eb-df09-49e1-9138-6de79cf28e5d",
   "metadata": {},
   "outputs": [],
   "source": [
    "prob_mean = df['prob_V1_V2'].mean()\n",
    "prob_std = df['prob_V1_V2'].std()\n",
    "\n",
    "df['risco_contaminacao'] = 1\n",
    "df.loc[df['prob_V1_V2'] < prob_mean - prob_std, 'risco_contaminacao'] = 0\n",
    "df.loc[df['prob_V1_V2'] > prob_mean + prob_std, 'risco_contaminacao'] = 2"
   ]
  },
  {
   "cell_type": "code",
   "execution_count": null,
   "id": "c0f4f766-00b5-4930-b139-a9a784f2c5c3",
   "metadata": {},
   "outputs": [],
   "source": [
    "df['risco_contaminacao'].value_counts(normalize=True)"
   ]
  },
  {
   "cell_type": "code",
   "execution_count": null,
   "id": "7ebcc0d0-5c16-497d-b31b-f4c43a500fd4",
   "metadata": {},
   "outputs": [],
   "source": [
    "df.groupby('risco_contaminacao').apply(lambda x: x.describe().T)"
   ]
  },
  {
   "cell_type": "code",
   "execution_count": null,
   "id": "a44a4558-dc4f-4a22-a118-b33718596afe",
   "metadata": {},
   "outputs": [],
   "source": [
    "fig, ax = plt.subplots(1, 2, figsize=(10, 4), sharey=True)\n",
    "\n",
    "sns.kdeplot(x='idade_V1', data=df, hue='risco_contaminacao', ax=ax[0])\n",
    "sns.kdeplot(x='idade_V2', data=df, hue='risco_contaminacao', ax=ax[1]);"
   ]
  },
  {
   "cell_type": "code",
   "execution_count": null,
   "id": "5bd88937-e7ae-4776-90e0-d34feeb379ee",
   "metadata": {},
   "outputs": [],
   "source": [
    "df['idade_V1_ate16'] = df['idade_V1'] < 16\n",
    "# df['idade_V1_16mais'] = df['idade_V1'] >= 16"
   ]
  },
  {
   "cell_type": "code",
   "execution_count": null,
   "id": "a5553e51-e73c-40ba-af25-af786838b6aa",
   "metadata": {},
   "outputs": [],
   "source": [
    "# fig, ax = plt.subplots(16, 2, figsize=(10, 64))\n",
    "fig, ax = plt.subplots(8, 2, figsize=(10, 32))\n",
    "fig.tight_layout(h_pad=4, w_pad=4)\n",
    "\n",
    "sns.kdeplot(x='idade_V1', data=df.query('idade_V1_ate16 == True'), hue='risco_contaminacao', ax=ax[0, 0])\n",
    "# ax[0, 0].set_xlabel('')\n",
    "ax[0, 0].set_ylabel('idade_V1_ate16')\n",
    "sns.kdeplot(x='idade_V2', data=df.query('idade_V1_ate16 == True'), hue='risco_contaminacao', ax=ax[0, 1])\n",
    "# ax[0, 1].set_xlabel('')\n",
    "ax[0, 1].set_ylabel('')\n",
    "# sns.kdeplot(x='idade_V1', data=df.query('idade_V1_16mais == True'), hue='risco_contaminacao', ax=ax[1, 0])\n",
    "# ax[0, 1].set_ylabel('idade_V1_ate16')\n",
    "# sns.kdeplot(x='idade_V2', data=df.query('idade_V1_ate16 == True'), hue='risco_contaminacao', ax=ax[0, 1])\n",
    "# ax[0, 1].set_xlabel('')\n",
    "# ax[0, 1].set_ylabel('')\n",
    "# sns.kdeplot(x='idade_V2', data=df.query('idade_V1_16mais == True'), hue='risco_contaminacao', ax=ax[1, 1])\n",
    "# ax[1, 1].set_ylabel('')\n",
    "\n",
    "cols = ['estado_civil_V1', 'estado_civil_V2', 'qt_filhos_V1', 'qt_filhos_V2',\n",
    "        'estuda_V1', 'estuda_V2', 'trabalha_V1', 'trabalha_V2', 'pratica_esportes_V1',\n",
    "        'pratica_esportes_V2', 'transporte_mais_utilizado_V1', 'transporte_mais_utilizado_V2']\n",
    "\n",
    "# for n, c in tqdm(enumerate(cols, start=2)):\n",
    "for n, c in tqdm(enumerate(cols, start=2)):\n",
    "    if n%2 == 0:\n",
    "#         tmp = (df\n",
    "#                .query('idade_V1_ate16 == True')\n",
    "#                .groupby('risco_contaminacao')[c]\n",
    "#                .value_counts(normalize=True)\n",
    "#                .rename('pct')\n",
    "#                .reset_index())\n",
    "        \n",
    "#         sns.barplot(x=c, y='idade_V1_ate16', data=df, hue='risco_contaminacao', ax=ax[2*(n//2), n%2])\n",
    "#         ax[2*(n//2), n%2].get_legend().remove()\n",
    "#         ax[2*(n//2), n%2].set_xlabel('')\n",
    "        sns.barplot(x=c, y='idade_V1_ate16', data=df, hue='risco_contaminacao', ax=ax[n//2, n%2])\n",
    "        ax[n//2, n%2].get_legend().remove()\n",
    "#         ax[n//2, n%2].set_xlabel('')\n",
    "        \n",
    "#         sns.barplot(x=c, y='idade_V1_16mais', data=df, hue='risco_contaminacao', ax=ax[2*(n//2)+1, n%2])\n",
    "#         ax[2*(n//2)+1, n%2].get_legend().remove()\n",
    "        \n",
    "    elif n%2 == 1:\n",
    "#         tmp = (df\n",
    "#                .query('idade_V1_ate16 == True')\n",
    "#                .groupby('risco_contaminacao')[c]\n",
    "#                .value_counts(normalize=True)\n",
    "#                .rename('pct')\n",
    "#                .reset_index())\n",
    "        \n",
    "#         sns.barplot(x=c, y='idade_V1_ate16', data=df, hue='risco_contaminacao', ax=ax[2*(n//2), n%2])\n",
    "#         ax[2*(n//2), n%2].legend(bbox_to_anchor=(1.05, 1), loc=2, borderaxespad=0, title='risco_contaminacao')\n",
    "#         ax[2*(n//2), n%2].set_xlabel('')\n",
    "#         ax[2*(n//2), n%2].set_ylabel('')\n",
    "        sns.barplot(x=c, y='idade_V1_ate16', data=df, hue='risco_contaminacao', ax=ax[n//2, n%2])\n",
    "        ax[n//2, n%2].legend(bbox_to_anchor=(1.05, 1), loc=2, borderaxespad=0, title='risco_contaminacao')\n",
    "#         ax[n//2, n%2].set_xlabel('')\n",
    "#         ax[n//2, n%2].set_ylabel('')\n",
    "        \n",
    "#         sns.barplot(x=c, y='idade_V1_16mais', data=df, hue='risco_contaminacao', ax=ax[2*(n//2)+1, n%2])\n",
    "#         ax[2*(n//2)+1, n%2].get_legend().remove()\n",
    "#         ax[2*(n//2)+1, n%2].set_ylabel('')\n",
    "        \n",
    "sns.kdeplot(x='IMC_V1', data=df.query('idade_V1_ate16 == True'), hue='risco_contaminacao', ax=ax[7, 0])\n",
    "# ax[7, 0].set_xlabel('')\n",
    "ax[7, 0].set_ylabel('idade_V1_ate16')\n",
    "# sns.kdeplot(x='IMC_V1', data=df.query('idade_V1_16mais == True'), hue='risco_contaminacao', ax=ax[15, 0])\n",
    "# ax[15, 0].set_ylabel('idade_V1_ate16')\n",
    "sns.kdeplot(x='IMC_V2', data=df.query('idade_V1_ate16 == True'), hue='risco_contaminacao', ax=ax[7, 1])\n",
    "# ax[7, 1].set_xlabel('')\n",
    "ax[7, 1].set_ylabel('');\n",
    "# sns.kdeplot(x='IMC_V2', data=df.query('idade_V1_16mais == True'), hue='risco_contaminacao', ax=ax[15, 1])\n",
    "# ax[15, 1].set_ylabel('');"
   ]
  },
  {
   "cell_type": "code",
   "execution_count": null,
   "id": "ad2a29c1-c0df-4a26-ba67-81860640d5de",
   "metadata": {},
   "outputs": [],
   "source": []
  }
 ],
 "metadata": {
  "kernelspec": {
   "display_name": "Python 3 (ipykernel)",
   "language": "python",
   "name": "python3"
  },
  "language_info": {
   "codemirror_mode": {
    "name": "ipython",
    "version": 3
   },
   "file_extension": ".py",
   "mimetype": "text/x-python",
   "name": "python",
   "nbconvert_exporter": "python",
   "pygments_lexer": "ipython3",
   "version": "3.8.11"
  },
  "toc-autonumbering": true
 },
 "nbformat": 4,
 "nbformat_minor": 5
}
